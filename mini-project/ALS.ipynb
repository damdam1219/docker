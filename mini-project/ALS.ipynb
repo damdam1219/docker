{
 "cells": [
  {
   "cell_type": "code",
   "execution_count": 1,
   "id": "b5d12b5d-8190-4f9e-85a9-dd1e8aa70165",
   "metadata": {},
   "outputs": [],
   "source": [
    "from pyspark.sql import SparkSession\n",
    "\n",
    "# SparkSession 생성\n",
    "spark = SparkSession.builder.appName(\"BankMarketing-EDA\").getOrCreate()"
   ]
  },
  {
   "cell_type": "code",
   "execution_count": 4,
   "id": "f4a5978d-25c5-42ae-8062-002206047d93",
   "metadata": {},
   "outputs": [
    {
     "name": "stdout",
     "output_type": "stream",
     "text": [
      "root\n",
      " |-- book_id: integer (nullable = true)\n",
      " |-- user_id: integer (nullable = true)\n",
      " |-- rating: integer (nullable = true)\n",
      "\n"
     ]
    }
   ],
   "source": [
    "file_path = './ratings.csv'\n",
    "\n",
    "ratings = spark.read.csv(file_path, inferSchema = True, header = True)\n",
    "ratings.printSchema()"
   ]
  },
  {
   "cell_type": "code",
   "execution_count": 5,
   "id": "09920763-5306-4a09-8a54-e3f5fd54e6a8",
   "metadata": {},
   "outputs": [
    {
     "name": "stdout",
     "output_type": "stream",
     "text": [
      "+-------+-------+------+\n",
      "|book_id|user_id|rating|\n",
      "+-------+-------+------+\n",
      "|      1|    314|     5|\n",
      "|      1|    439|     3|\n",
      "|      1|    588|     5|\n",
      "|      1|   1169|     4|\n",
      "|      1|   1185|     4|\n",
      "+-------+-------+------+\n",
      "only showing top 5 rows\n",
      "\n"
     ]
    }
   ],
   "source": [
    "\n",
    "ratings.show(5)\n",
    "\n",
    "# NULL이나 이상치 제거 (옵션)\n",
    "ratings = ratings.dropna()"
   ]
  },
  {
   "cell_type": "code",
   "execution_count": 6,
   "id": "5892752e-da75-4c5a-b427-a1d062f61d19",
   "metadata": {},
   "outputs": [],
   "source": [
    "train, test = ratings.randomSplit([0.8, 0.2], seed=42)"
   ]
  },
  {
   "cell_type": "code",
   "execution_count": 7,
   "id": "e3d83802-6e5c-4ffb-ad23-4c60d2eb7425",
   "metadata": {},
   "outputs": [],
   "source": [
    "from pyspark.ml.recommendation import ALS\n",
    "\n",
    "als = ALS(\n",
    "    userCol=\"user_id\",\n",
    "    itemCol=\"book_id\",\n",
    "    ratingCol=\"rating\",\n",
    "    nonnegative=True,\n",
    "    coldStartStrategy=\"drop\",  # NaN 예측 제거\n",
    "    implicitPrefs=False,       # 명시적 피드백 사용\n",
    "    rank=10,\n",
    "    maxIter=10,\n",
    "    regParam=0.1\n",
    ")\n",
    "\n",
    "model = als.fit(train)"
   ]
  },
  {
   "cell_type": "code",
   "execution_count": 8,
   "id": "551e1fd3-3d6f-4899-8185-474367adcb65",
   "metadata": {},
   "outputs": [
    {
     "name": "stdout",
     "output_type": "stream",
     "text": [
      "RMSE: 0.9180976315123347\n"
     ]
    }
   ],
   "source": [
    "from pyspark.ml.evaluation import RegressionEvaluator\n",
    "\n",
    "predictions = model.transform(test)\n",
    "\n",
    "evaluator = RegressionEvaluator(\n",
    "    metricName=\"rmse\", \n",
    "    labelCol=\"rating\", \n",
    "    predictionCol=\"prediction\"\n",
    ")\n",
    "\n",
    "rmse = evaluator.evaluate(predictions)\n",
    "print(f\"RMSE: {rmse}\")"
   ]
  },
  {
   "cell_type": "code",
   "execution_count": 9,
   "id": "56db1c1e-cdf8-4595-9bfb-38d4685daf50",
   "metadata": {},
   "outputs": [
    {
     "name": "stdout",
     "output_type": "stream",
     "text": [
      "+-------+---------------------------------------------------------------------------------------------+\n",
      "|user_id|recommendations                                                                              |\n",
      "+-------+---------------------------------------------------------------------------------------------+\n",
      "|123    |[{2236, 5.4559803}, {9024, 5.079625}, {7580, 5.0629807}, {9243, 4.9658628}, {2149, 4.939191}]|\n",
      "+-------+---------------------------------------------------------------------------------------------+\n",
      "\n"
     ]
    }
   ],
   "source": [
    "user_id = 123\n",
    "users_df = spark.createDataFrame([(user_id,)], [\"user_id\"])\n",
    "\n",
    "recommendations = model.recommendForUserSubset(users_df, 5)\n",
    "\n",
    "recommendations.show(truncate=False)"
   ]
  },
  {
   "cell_type": "code",
   "execution_count": 13,
   "id": "72a2212f-7f4a-40e8-999c-50a0d4f6130e",
   "metadata": {},
   "outputs": [],
   "source": [
    "spark.stop()"
   ]
  },
  {
   "cell_type": "markdown",
   "id": "60936233-4f1d-4fa7-bb2b-7a925f5bd9ff",
   "metadata": {},
   "source": [
    "🎯 핵심 개념: ALS는 사람 간의 패턴 유사성을 학습\n",
    "\n",
    "ALS는 실제로 책의 제목이나 장르, 저자 같은 콘텐츠 정보는 전혀 모릅니다.\n",
    "\n",
    "대신에 ALS는 이런 식으로 작동해요:\n",
    "\n",
    "**\"A 사용자가 좋아한 책과 B 사용자가 좋아한 책이 많이 겹친다면, A와 B는 취향이 비슷하다.**\n",
    "\n",
    "그러면 B가 좋아했지만 A가 아직 안 본 책도 A가 좋아할 확률이 높다!\"\n",
    "\n",
    "즉, **행동 데이터(= 평점)** 만 보고\n",
    "\n",
    "\"비슷한 사용자\"와 \"비슷한 책\"을 수치적으로 추정해서 추천하는 겁니다."
   ]
  },
  {
   "cell_type": "code",
   "execution_count": null,
   "id": "dab251f0-e20b-4432-8c91-7e3adf11c106",
   "metadata": {},
   "outputs": [],
   "source": []
  }
 ],
 "metadata": {
  "kernelspec": {
   "display_name": "Python 3 (ipykernel)",
   "language": "python",
   "name": "python3"
  },
  "language_info": {
   "codemirror_mode": {
    "name": "ipython",
    "version": 3
   },
   "file_extension": ".py",
   "mimetype": "text/x-python",
   "name": "python",
   "nbconvert_exporter": "python",
   "pygments_lexer": "ipython3",
   "version": "3.11.6"
  }
 },
 "nbformat": 4,
 "nbformat_minor": 5
}
