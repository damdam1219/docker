{
 "cells": [
  {
   "cell_type": "code",
   "execution_count": 1,
   "id": "e3a53067-f88f-4bf8-aef1-04883681aaa6",
   "metadata": {},
   "outputs": [],
   "source": [
    "from pyspark.sql import SparkSession\n",
    "\n",
    "# SparkSession 생성\n",
    "spark = SparkSession.builder.appName(\"BankMarketing-EDA\").getOrCreate()"
   ]
  },
  {
   "cell_type": "code",
   "execution_count": 2,
   "id": "7684a5bb-6bd9-4cbd-bbd8-d63d46d39fb0",
   "metadata": {},
   "outputs": [
    {
     "name": "stdout",
     "output_type": "stream",
     "text": [
      "root\n",
      " |-- age: integer (nullable = true)\n",
      " |-- job: string (nullable = true)\n",
      " |-- marital: string (nullable = true)\n",
      " |-- education: string (nullable = true)\n",
      " |-- default: string (nullable = true)\n",
      " |-- balance: integer (nullable = true)\n",
      " |-- housing: string (nullable = true)\n",
      " |-- loan: string (nullable = true)\n",
      " |-- contact: string (nullable = true)\n",
      " |-- day: integer (nullable = true)\n",
      " |-- month: string (nullable = true)\n",
      " |-- duration: integer (nullable = true)\n",
      " |-- campaign: integer (nullable = true)\n",
      " |-- pdays: integer (nullable = true)\n",
      " |-- previous: integer (nullable = true)\n",
      " |-- poutcome: string (nullable = true)\n",
      " |-- y: string (nullable = true)\n",
      "\n"
     ]
    }
   ],
   "source": [
    "file_path = './bank.csv'\n",
    "\n",
    "df = spark.read.csv(file_path, inferSchema = True, header = True,sep = ';')\n",
    "df.printSchema()"
   ]
  },
  {
   "cell_type": "code",
   "execution_count": 3,
   "id": "fe727816-5754-418d-b07b-b61f70164cf0",
   "metadata": {},
   "outputs": [
    {
     "name": "stdout",
     "output_type": "stream",
     "text": [
      "+---+-------------+-------+---------+-------+-------+-------+----+--------+---+-----+--------+--------+-----+--------+--------+---+\n",
      "|age|          job|marital|education|default|balance|housing|loan| contact|day|month|duration|campaign|pdays|previous|poutcome|  y|\n",
      "+---+-------------+-------+---------+-------+-------+-------+----+--------+---+-----+--------+--------+-----+--------+--------+---+\n",
      "| 30|   unemployed|married|  primary|     no|   1787|     no|  no|cellular| 19|  oct|      79|       1|   -1|       0| unknown| no|\n",
      "| 33|     services|married|secondary|     no|   4789|    yes| yes|cellular| 11|  may|     220|       1|  339|       4| failure| no|\n",
      "| 35|   management| single| tertiary|     no|   1350|    yes|  no|cellular| 16|  apr|     185|       1|  330|       1| failure| no|\n",
      "| 30|   management|married| tertiary|     no|   1476|    yes| yes| unknown|  3|  jun|     199|       4|   -1|       0| unknown| no|\n",
      "| 59|  blue-collar|married|secondary|     no|      0|    yes|  no| unknown|  5|  may|     226|       1|   -1|       0| unknown| no|\n",
      "| 35|   management| single| tertiary|     no|    747|     no|  no|cellular| 23|  feb|     141|       2|  176|       3| failure| no|\n",
      "| 36|self-employed|married| tertiary|     no|    307|    yes|  no|cellular| 14|  may|     341|       1|  330|       2|   other| no|\n",
      "| 39|   technician|married|secondary|     no|    147|    yes|  no|cellular|  6|  may|     151|       2|   -1|       0| unknown| no|\n",
      "| 41| entrepreneur|married| tertiary|     no|    221|    yes|  no| unknown| 14|  may|      57|       2|   -1|       0| unknown| no|\n",
      "| 43|     services|married|  primary|     no|    -88|    yes| yes|cellular| 17|  apr|     313|       1|  147|       2| failure| no|\n",
      "| 39|     services|married|secondary|     no|   9374|    yes|  no| unknown| 20|  may|     273|       1|   -1|       0| unknown| no|\n",
      "| 43|       admin.|married|secondary|     no|    264|    yes|  no|cellular| 17|  apr|     113|       2|   -1|       0| unknown| no|\n",
      "| 36|   technician|married| tertiary|     no|   1109|     no|  no|cellular| 13|  aug|     328|       2|   -1|       0| unknown| no|\n",
      "| 20|      student| single|secondary|     no|    502|     no|  no|cellular| 30|  apr|     261|       1|   -1|       0| unknown|yes|\n",
      "| 31|  blue-collar|married|secondary|     no|    360|    yes| yes|cellular| 29|  jan|      89|       1|  241|       1| failure| no|\n",
      "| 40|   management|married| tertiary|     no|    194|     no| yes|cellular| 29|  aug|     189|       2|   -1|       0| unknown| no|\n",
      "| 56|   technician|married|secondary|     no|   4073|     no|  no|cellular| 27|  aug|     239|       5|   -1|       0| unknown| no|\n",
      "| 37|       admin.| single| tertiary|     no|   2317|    yes|  no|cellular| 20|  apr|     114|       1|  152|       2| failure| no|\n",
      "| 25|  blue-collar| single|  primary|     no|   -221|    yes|  no| unknown| 23|  may|     250|       1|   -1|       0| unknown| no|\n",
      "| 31|     services|married|secondary|     no|    132|     no|  no|cellular|  7|  jul|     148|       1|  152|       1|   other| no|\n",
      "+---+-------------+-------+---------+-------+-------+-------+----+--------+---+-----+--------+--------+-----+--------+--------+---+\n",
      "only showing top 20 rows\n",
      "\n"
     ]
    }
   ],
   "source": [
    "df.show()"
   ]
  },
  {
   "cell_type": "code",
   "execution_count": 33,
   "id": "531a8600-9aba-40a8-80e3-7f0f28ddf1d3",
   "metadata": {},
   "outputs": [
    {
     "name": "stdout",
     "output_type": "stream",
     "text": [
      "+---+---------+\n",
      "|age|age_group|\n",
      "+---+---------+\n",
      "| 30|       30|\n",
      "| 33|       30|\n",
      "| 35|       30|\n",
      "| 30|       30|\n",
      "| 59|       50|\n",
      "| 35|       30|\n",
      "| 36|       30|\n",
      "| 39|       30|\n",
      "| 41|       40|\n",
      "| 43|       40|\n",
      "+---+---------+\n",
      "only showing top 10 rows\n",
      "\n"
     ]
    }
   ],
   "source": [
    "from pyspark.sql.functions import floor, col\n",
    "\n",
    "df = df.withColumn('age_group', floor(col('age') / 10) * 10)\n",
    "df.select('age', 'age_group').show(10)"
   ]
  },
  {
   "cell_type": "code",
   "execution_count": 26,
   "id": "eefbe111-1bdb-4949-916b-996da2f17624",
   "metadata": {},
   "outputs": [
    {
     "name": "stdout",
     "output_type": "stream",
     "text": [
      "+-----+---+-----+-----------+-------------------+\n",
      "|month|  y|count|month_total|              ratio|\n",
      "+-----+---+-----+-----------+-------------------+\n",
      "|  apr| no|  237|        293| 0.8088737201365188|\n",
      "|  apr|yes|   56|        293|0.19112627986348124|\n",
      "|  aug|yes|   79|        633|0.12480252764612954|\n",
      "|  aug| no|  554|        633| 0.8751974723538705|\n",
      "|  dec| no|   11|         20|               0.55|\n",
      "|  dec|yes|    9|         20|               0.45|\n",
      "|  feb|yes|   38|        222|0.17117117117117117|\n",
      "|  feb| no|  184|        222| 0.8288288288288288|\n",
      "|  jan| no|  132|        148| 0.8918918918918919|\n",
      "|  jan|yes|   16|        148|0.10810810810810811|\n",
      "|  jul| no|  645|        706| 0.9135977337110481|\n",
      "|  jul|yes|   61|        706|0.08640226628895184|\n",
      "|  jun|yes|   55|        531|0.10357815442561205|\n",
      "|  jun| no|  476|        531|  0.896421845574388|\n",
      "|  mar| no|   28|         49| 0.5714285714285714|\n",
      "|  mar|yes|   21|         49|0.42857142857142855|\n",
      "|  may| no| 1305|       1398| 0.9334763948497854|\n",
      "|  may|yes|   93|       1398|0.06652360515021459|\n",
      "|  nov| no|  350|        389| 0.8997429305912596|\n",
      "|  nov|yes|   39|        389|0.10025706940874037|\n",
      "+-----+---+-----+-----------+-------------------+\n",
      "only showing top 20 rows\n",
      "\n"
     ]
    }
   ],
   "source": [
    "# 1) month, y별 count\n",
    "month_y_count = df.groupBy('month', 'y').count()\n",
    "\n",
    "# 2) month별 총 count (윈도우 함수 사용)\n",
    "window_spec = Window.partitionBy('month')\n",
    "month_y_count = month_y_count.withColumn('month_total', F.sum('count').over(window_spec))\n",
    "\n",
    "# 3) 비율 계산\n",
    "month_y_count = month_y_count.withColumn('ratio', F.col('count') / F.col('month_total'))\n",
    "\n",
    "month_y_count.show()"
   ]
  },
  {
   "cell_type": "code",
   "execution_count": 32,
   "id": "9e804c6f-deb1-410e-9861-5a805830de0d",
   "metadata": {},
   "outputs": [
    {
     "name": "stdout",
     "output_type": "stream",
     "text": [
      "+-----+-----+-----+-------------------+\n",
      "|pdays|count|total|              ratio|\n",
      "+-----+-----+-----+-------------------+\n",
      "|   -1|  337| 3705|0.09095816464237517|\n",
      "|    1|    2|    2|                1.0|\n",
      "|   38|    1|    1|                1.0|\n",
      "|   56|    1|    1|                1.0|\n",
      "|   57|    1|    1|                1.0|\n",
      "|   60|    1|    1|                1.0|\n",
      "|   63|    1|    1|                1.0|\n",
      "|   64|    3|    3|                1.0|\n",
      "|   73|    1|    1|                1.0|\n",
      "|   78|    1|    4|               0.25|\n",
      "|   80|    1|    2|                0.5|\n",
      "|   84|    1|    4|               0.25|\n",
      "|   85|    1|    6|0.16666666666666666|\n",
      "|   86|    1|    1|                1.0|\n",
      "|   87|    2|    6| 0.3333333333333333|\n",
      "|   88|    1|    3| 0.3333333333333333|\n",
      "|   89|    2|    3| 0.6666666666666666|\n",
      "|   90|    3|    5|                0.6|\n",
      "|   91|    5|   11|0.45454545454545453|\n",
      "|   92|   11|   12| 0.9166666666666666|\n",
      "|   93|    1|    4|               0.25|\n",
      "|   94|    3|    8|              0.375|\n",
      "|   95|    4|    6| 0.6666666666666666|\n",
      "|   96|    3|    6|                0.5|\n",
      "|   97|    2|    4|                0.5|\n",
      "|   98|    4|    4|                1.0|\n",
      "|   99|    4|    8|                0.5|\n",
      "|  100|    1|    2|                0.5|\n",
      "|  102|    1|    3| 0.3333333333333333|\n",
      "|  105|    1|    5|                0.2|\n",
      "|  107|    1|    4|               0.25|\n",
      "|  109|    1|    2|                0.5|\n",
      "|  114|    1|    3| 0.3333333333333333|\n",
      "|  122|    1|    3| 0.3333333333333333|\n",
      "|  127|    1|    4|               0.25|\n",
      "|  130|    1|    2|                0.5|\n",
      "|  140|    2|    3| 0.6666666666666666|\n",
      "|  141|    2|    2|                1.0|\n",
      "|  143|    1|    1|                1.0|\n",
      "|  144|    1|    1|                1.0|\n",
      "|  146|    1|    3| 0.3333333333333333|\n",
      "|  148|    1|    3| 0.3333333333333333|\n",
      "|  161|    1|    3| 0.3333333333333333|\n",
      "|  164|    1|    2|                0.5|\n",
      "|  166|    1|    2|                0.5|\n",
      "|  169|    3|   10|                0.3|\n",
      "|  174|    2|    5|                0.4|\n",
      "|  178|    1|    3| 0.3333333333333333|\n",
      "|  179|    1|    2|                0.5|\n",
      "|  180|    2|    3| 0.6666666666666666|\n",
      "|  181|    7|   10|                0.7|\n",
      "|  182|   12|   23| 0.5217391304347826|\n",
      "|  183|    7|   20|               0.35|\n",
      "|  184|    4|    7| 0.5714285714285714|\n",
      "|  185|    2|    6| 0.3333333333333333|\n",
      "|  187|    1|    2|                0.5|\n",
      "|  188|    1|    4|               0.25|\n",
      "|  189|    2|    4|                0.5|\n",
      "|  190|    1|    5|                0.2|\n",
      "|  192|    2|    3| 0.6666666666666666|\n",
      "|  195|    1|    4|               0.25|\n",
      "|  198|    1|    2|                0.5|\n",
      "|  204|    1|    3| 0.3333333333333333|\n",
      "|  209|    2|    2|                1.0|\n",
      "|  227|    1|    2|                0.5|\n",
      "|  246|    1|    4|               0.25|\n",
      "|  256|    1|    3| 0.3333333333333333|\n",
      "|  261|    1|    3| 0.3333333333333333|\n",
      "|  266|    1|    6|0.16666666666666666|\n",
      "|  270|    1|    2|                0.5|\n",
      "|  272|    2|    5|                0.4|\n",
      "|  275|    1|    3| 0.3333333333333333|\n",
      "|  278|    1|    2|                0.5|\n",
      "|  282|    1|    1|                1.0|\n",
      "|  286|    1|    2|                0.5|\n",
      "|  291|    1|    2|                0.5|\n",
      "|  292|    1|    2|                0.5|\n",
      "|  293|    1|    2|                0.5|\n",
      "|  295|    1|    3| 0.3333333333333333|\n",
      "|  300|    1|    2|                0.5|\n",
      "|  311|    1|    1|                1.0|\n",
      "|  332|    1|    3| 0.3333333333333333|\n",
      "|  334|    1|    3| 0.3333333333333333|\n",
      "|  335|    1|    4|               0.25|\n",
      "|  340|    1|    4|               0.25|\n",
      "|  342|    1|    6|0.16666666666666666|\n",
      "|  345|    1|    6|0.16666666666666666|\n",
      "|  350|    1|    5|                0.2|\n",
      "|  352|    1|    3| 0.3333333333333333|\n",
      "|  353|    1|    3| 0.3333333333333333|\n",
      "|  357|    2|    5|                0.4|\n",
      "|  358|    1|    4|               0.25|\n",
      "|  364|    1|    9| 0.1111111111111111|\n",
      "|  365|    1|    3| 0.3333333333333333|\n",
      "|  370|    1|    9| 0.1111111111111111|\n",
      "|  375|    1|    1|                1.0|\n",
      "|  378|    1|    1|                1.0|\n",
      "|  385|    1|    1|                1.0|\n",
      "|  386|    1|    1|                1.0|\n",
      "|  414|    1|    1|                1.0|\n",
      "+-----+-----+-----+-------------------+\n",
      "only showing top 100 rows\n",
      "\n"
     ]
    }
   ],
   "source": [
    "from pyspark.sql import functions as F\n",
    "\n",
    "# pdays와 y별 count 구하기\n",
    "pdays_y_count = df.groupBy('pdays', 'y').count()\n",
    "\n",
    "# pdays별 총합 구하기\n",
    "pdays_total = pdays_y_count.groupBy('pdays').agg(F.sum('count').alias('total'))\n",
    "\n",
    "# join해서 비율 계산\n",
    "joined = pdays_y_count.join(pdays_total, on='pdays')\n",
    "result = joined.withColumn('ratio', F.col('count') / F.col('total'))\n",
    "\n",
    "# y가 'yes'인 데이터만 필터링해서 성공률만 보기\n",
    "success_ratio = result.filter(result.y == 'yes').select('pdays', 'count', 'total', 'ratio').orderBy('pdays')\n",
    "\n",
    "success_ratio.show(100)\n"
   ]
  },
  {
   "cell_type": "code",
   "execution_count": 31,
   "id": "db4e5d82-f1cb-4117-97c5-8f767fdcf0ad",
   "metadata": {},
   "outputs": [
    {
     "name": "stdout",
     "output_type": "stream",
     "text": [
      "+--------+---+-----+-----+--------------------+\n",
      "|campaign|  y|count|total|               ratio|\n",
      "+--------+---+-----+-----+--------------------+\n",
      "|       1| no| 1494| 1734|  0.8615916955017301|\n",
      "|       1|yes|  240| 1734|  0.1384083044982699|\n",
      "|       2| no| 1126| 1264|  0.8908227848101266|\n",
      "|       2|yes|  138| 1264| 0.10917721518987342|\n",
      "|       3| no|  501|  558|  0.8978494623655914|\n",
      "|       3|yes|   57|  558| 0.10215053763440861|\n",
      "|       4| no|  282|  325|  0.8676923076923077|\n",
      "|       4|yes|   43|  325| 0.13230769230769232|\n",
      "|       5| no|  158|  167|  0.9461077844311377|\n",
      "|       5|yes|    9|  167| 0.05389221556886228|\n",
      "|       6| no|  139|  155|   0.896774193548387|\n",
      "|       6|yes|   16|  155|  0.1032258064516129|\n",
      "|       7| no|   69|   75|                0.92|\n",
      "|       7|yes|    6|   75|                0.08|\n",
      "|       8| no|   52|   56|  0.9285714285714286|\n",
      "|       8|yes|    4|   56| 0.07142857142857142|\n",
      "|       9| no|   28|   30|  0.9333333333333333|\n",
      "|       9|yes|    2|   30| 0.06666666666666667|\n",
      "|      10| no|   26|   27|  0.9629629629629629|\n",
      "|      10|yes|    1|   27|0.037037037037037035|\n",
      "|      11| no|   22|   22|                 1.0|\n",
      "|      12| no|   20|   21|  0.9523809523809523|\n",
      "|      12|yes|    1|   21|0.047619047619047616|\n",
      "|      13| no|   15|   17|  0.8823529411764706|\n",
      "|      13|yes|    2|   17| 0.11764705882352941|\n",
      "|      14| no|   10|   10|                 1.0|\n",
      "|      15| no|    9|    9|                 1.0|\n",
      "|      16| no|    8|    8|                 1.0|\n",
      "|      17| no|    6|    7|  0.8571428571428571|\n",
      "|      17|yes|    1|    7| 0.14285714285714285|\n",
      "|      18| no|    7|    7|                 1.0|\n",
      "|      19| no|    3|    3|                 1.0|\n",
      "|      20| no|    3|    3|                 1.0|\n",
      "|      21| no|    2|    2|                 1.0|\n",
      "|      22| no|    2|    2|                 1.0|\n",
      "|      23| no|    2|    2|                 1.0|\n",
      "|      24| no|    2|    3|  0.6666666666666666|\n",
      "|      24|yes|    1|    3|  0.3333333333333333|\n",
      "|      25| no|    4|    4|                 1.0|\n",
      "|      28| no|    3|    3|                 1.0|\n",
      "|      29| no|    1|    1|                 1.0|\n",
      "|      30| no|    1|    1|                 1.0|\n",
      "|      31| no|    1|    1|                 1.0|\n",
      "|      32| no|    2|    2|                 1.0|\n",
      "|      44| no|    1|    1|                 1.0|\n",
      "|      50| no|    1|    1|                 1.0|\n",
      "+--------+---+-----+-----+--------------------+\n",
      "\n"
     ]
    }
   ],
   "source": [
    "from pyspark.sql import functions as F\n",
    "\n",
    "# 1) campaign과 y별 count\n",
    "campaign_y_count = df.groupBy('campaign', 'y').count()\n",
    "\n",
    "# 2) campaign별 총 연락 횟수 (sum)\n",
    "campaign_total = campaign_y_count.groupBy('campaign').agg(F.sum('count').alias('total'))\n",
    "\n",
    "# 3) campaign_y_count와 campaign_total 조인\n",
    "joined = campaign_y_count.join(campaign_total, on='campaign')\n",
    "\n",
    "# 4) 비율 계산 (각 campaign별 y 상태 비율)\n",
    "result = joined.withColumn('ratio', F.col('count') / F.col('total'))\n",
    "\n",
    "result.orderBy('campaign', 'y').show(150)"
   ]
  },
  {
   "cell_type": "code",
   "execution_count": 4,
   "id": "08a69e4d-45e1-4b2e-9d24-00e5965f6477",
   "metadata": {},
   "outputs": [
    {
     "name": "stdout",
     "output_type": "stream",
     "text": [
      "+---+-----+-----------------+------------------+-------+-------+\n",
      "|  y|count|          avg_age|        stddev_age|min_age|max_age|\n",
      "+---+-----+-----------------+------------------+-------+-------+\n",
      "| no| 4000|           40.998|10.188397659186446|     19|     86|\n",
      "|yes|  521|42.49136276391555|13.115772297009253|     19|     87|\n",
      "+---+-----+-----------------+------------------+-------+-------+\n",
      "\n"
     ]
    }
   ],
   "source": [
    "from pyspark.sql.functions import mean, stddev, min, max, count\n",
    "\n",
    "df.groupBy(\"y\").agg(\n",
    "    count(\"age\").alias(\"count\"),\n",
    "    mean(\"age\").alias(\"avg_age\"),\n",
    "    stddev(\"age\").alias(\"stddev_age\"),\n",
    "    min(\"age\").alias(\"min_age\"),\n",
    "    max(\"age\").alias(\"max_age\")\n",
    ").show()"
   ]
  },
  {
   "cell_type": "code",
   "execution_count": 5,
   "id": "deab71e2-eb6b-4050-827d-dd5de0afb16a",
   "metadata": {},
   "outputs": [
    {
     "name": "stdout",
     "output_type": "stream",
     "text": [
      "+---------+---+-----+\n",
      "|age_group|  y|count|\n",
      "+---------+---+-----+\n",
      "|     10대| no|    2|\n",
      "|     10대|yes|    2|\n",
      "|     20대| no|  406|\n",
      "|     20대|yes|   72|\n",
      "|     30대| no| 1623|\n",
      "|     30대|yes|  185|\n",
      "|     40대| no| 1080|\n",
      "|     40대|yes|  123|\n",
      "|     50대| no|  770|\n",
      "|     50대|yes|   84|\n",
      "|     60대| no|   82|\n",
      "|     60대|yes|   31|\n",
      "|     70대| no|   29|\n",
      "|     70대|yes|   18|\n",
      "|80대 이상| no|    8|\n",
      "|80대 이상|yes|    6|\n",
      "+---------+---+-----+\n",
      "\n"
     ]
    }
   ],
   "source": [
    "from pyspark.sql.functions import when, col\n",
    "\n",
    "df = df.withColumn(\n",
    "    \"age_group\",\n",
    "    when((col(\"age\") < 10), \"0대\")\n",
    "    .when((col(\"age\") < 20), \"10대\")\n",
    "    .when((col(\"age\") < 30), \"20대\")\n",
    "    .when((col(\"age\") < 40), \"30대\")\n",
    "    .when((col(\"age\") < 50), \"40대\")\n",
    "    .when((col(\"age\") < 60), \"50대\")\n",
    "    .when((col(\"age\") < 70), \"60대\")\n",
    "    .when((col(\"age\") < 80), \"70대\")\n",
    "    .otherwise(\"80대 이상\")\n",
    ")\n",
    "age_y_dist = df.groupBy(\"age_group\", \"y\").count().orderBy(\"age_group\", \"y\")\n",
    "age_y_dist.show()"
   ]
  },
  {
   "cell_type": "code",
   "execution_count": 6,
   "id": "d38dfe61-30ca-4ec0-bb3d-acad0a8d71f7",
   "metadata": {},
   "outputs": [
    {
     "data": {
      "image/png": "[encoded data removed]",
      "text/plain": [
       "<Figure size 800x600 with 1 Axes>"
      ]
     },
     "metadata": {},
     "output_type": "display_data"
    }
   ],
   "source": [
    "# 1. 필요한 라이브러리 불러오기\n",
    "import pandas as pd\n",
    "import matplotlib.pyplot as plt\n",
    "import seaborn as sns\n",
    "\n",
    "# 2. Spark DataFrame에서 필요한 컬럼만 선택\n",
    "df_pd = df.select(\"y\", \"age\").toPandas()\n",
    "\n",
    "# 3. y가 범주형(str)이라면 필요 시 변환\n",
    "df_pd[\"y\"] = df_pd[\"y\"].astype(str)\n",
    "\n",
    "# 5. 박스플롯 그리기\n",
    "plt.figure(figsize=(8, 6))\n",
    "sns.boxplot(data=df_pd, x=\"y\", y=\"age\")\n",
    "plt.title(\"box plot for Y\")\n",
    "plt.xlabel(\"y\")\n",
    "plt.ylabel(\"age\")\n",
    "plt.grid(True)\n",
    "plt.show()"
   ]
  },
  {
   "cell_type": "code",
   "execution_count": 7,
   "id": "89cf57ee-77ce-4448-8b18-231b24b79e1e",
   "metadata": {},
   "outputs": [
    {
     "name": "stdout",
     "output_type": "stream",
     "text": [
      "+-------------+---+-----+---------+--------------+\n",
      "|          job|  y|count|job_total|y_ratio_in_job|\n",
      "+-------------+---+-----+---------+--------------+\n",
      "|       admin.| no|  420|      478|         0.879|\n",
      "|       admin.|yes|   58|      478|         0.121|\n",
      "|  blue-collar| no|  877|      946|         0.927|\n",
      "|  blue-collar|yes|   69|      946|         0.073|\n",
      "| entrepreneur| no|  153|      168|         0.911|\n",
      "| entrepreneur|yes|   15|      168|         0.089|\n",
      "|    housemaid| no|   98|      112|         0.875|\n",
      "|    housemaid|yes|   14|      112|         0.125|\n",
      "|   management| no|  838|      969|         0.865|\n",
      "|   management|yes|  131|      969|         0.135|\n",
      "|      retired| no|  176|      230|         0.765|\n",
      "|      retired|yes|   54|      230|         0.235|\n",
      "|self-employed| no|  163|      183|         0.891|\n",
      "|self-employed|yes|   20|      183|         0.109|\n",
      "|     services| no|  379|      417|         0.909|\n",
      "|     services|yes|   38|      417|         0.091|\n",
      "|      student| no|   65|       84|         0.774|\n",
      "|      student|yes|   19|       84|         0.226|\n",
      "|   technician| no|  685|      768|         0.892|\n",
      "|   technician|yes|   83|      768|         0.108|\n",
      "+-------------+---+-----+---------+--------------+\n",
      "only showing top 20 rows\n",
      "\n"
     ]
    }
   ],
   "source": [
    "from pyspark.sql.functions import col, round, sum as spark_sum\n",
    "\n",
    "# 1. job별 y별 count\n",
    "job_y_count = df.groupBy(\"job\", \"y\").count()\n",
    "\n",
    "# 2. job별 전체 count\n",
    "job_total = df.groupBy(\"job\").count().withColumnRenamed(\"count\", \"job_total\")\n",
    "\n",
    "# 3. job별 y별 count와 job별 전체 count 조인\n",
    "job_y_ratio = job_y_count.join(job_total, on=\"job\")\n",
    "\n",
    "# 4. y별 비율 계산\n",
    "job_y_ratio = job_y_ratio.withColumn(\n",
    "    \"y_ratio_in_job\",\n",
    "    round(col(\"count\") / col(\"job_total\"), 3)\n",
    ")\n",
    "\n",
    "# 5. 정렬\n",
    "job_y_ratio = job_y_ratio.orderBy(\"job\", \"y\")\n",
    "\n",
    "job_y_ratio.show()"
   ]
  },
  {
   "cell_type": "code",
   "execution_count": 8,
   "id": "317d4488-df1f-4b95-8fef-d374ffe3f4c5",
   "metadata": {},
   "outputs": [
    {
     "name": "stdout",
     "output_type": "stream",
     "text": [
      "+--------+---+-----+-----------+-------------------+\n",
      "| marital|  y|count|total_count|              ratio|\n",
      "+--------+---+-----+-----------+-------------------+\n",
      "|divorced| no|  451|        528| 0.8541666666666666|\n",
      "|divorced|yes|   77|        528|0.14583333333333334|\n",
      "| married| no| 2520|       2797|  0.900965319985699|\n",
      "| married|yes|  277|       2797|0.09903468001430103|\n",
      "|  single| no| 1029|       1196| 0.8603678929765887|\n",
      "|  single|yes|  167|       1196|0.13963210702341136|\n",
      "+--------+---+-----+-----------+-------------------+\n",
      "\n"
     ]
    }
   ],
   "source": [
    "from pyspark.sql.functions import col, count, sum\n",
    "\n",
    "# 1. marital과 y별로 count\n",
    "marital_y_count = df.groupBy('marital', 'y').count()\n",
    "\n",
    "# 2. marital별 전체 count 구하기\n",
    "marital_total = df.groupBy('marital').count().withColumnRenamed('count', 'total_count')\n",
    "\n",
    "# 3. 두 데이터프레임 join\n",
    "joined = marital_y_count.join(marital_total, on='marital')\n",
    "\n",
    "# 4. y별 marital 내 비율 계산\n",
    "result = joined.withColumn('ratio', col('count') / col('total_count'))\n",
    "\n",
    "# 결과 출력\n",
    "result.select('marital', 'y', 'count', 'total_count', 'ratio').orderBy('marital', 'y').show()"
   ]
  },
  {
   "cell_type": "code",
   "execution_count": 11,
   "id": "977a47ba-aa32-47c5-81cc-ad8e58c7afb3",
   "metadata": {},
   "outputs": [
    {
     "name": "stdout",
     "output_type": "stream",
     "text": [
      "+---------+-----+\n",
      "|education|count|\n",
      "+---------+-----+\n",
      "|secondary| 2306|\n",
      "| tertiary| 1350|\n",
      "|  primary|  678|\n",
      "|  unknown|  187|\n",
      "+---------+-----+\n",
      "\n"
     ]
    }
   ],
   "source": [
    "df.groupBy(\"education\").count().orderBy(\"count\", ascending=False).show()"
   ]
  },
  {
   "cell_type": "code",
   "execution_count": 21,
   "id": "aa93d201-3e6e-4516-8012-cdb812359295",
   "metadata": {},
   "outputs": [
    {
     "name": "stdout",
     "output_type": "stream",
     "text": [
      "+---------+-----+\n",
      "|  contact|count|\n",
      "+---------+-----+\n",
      "| cellular| 2896|\n",
      "|  unknown| 1324|\n",
      "|telephone|  301|\n",
      "+---------+-----+\n",
      "\n"
     ]
    }
   ],
   "source": [
    "df.groupBy(\"contact\").count().orderBy(\"count\", ascending=False).show()"
   ]
  },
  {
   "cell_type": "code",
   "execution_count": 14,
   "id": "2b1c5dd3-a908-4034-9cf7-efd8f425884a",
   "metadata": {},
   "outputs": [
    {
     "name": "stdout",
     "output_type": "stream",
     "text": [
      "+---------+---+-----+-----------+-------------------+\n",
      "|education|  y|count|total_count|              ratio|\n",
      "+---------+---+-----+-----------+-------------------+\n",
      "|  primary| no|  614|        678| 0.9056047197640118|\n",
      "|  primary|yes|   64|        678| 0.0943952802359882|\n",
      "|secondary| no| 2061|       2306|  0.893755420641804|\n",
      "|secondary|yes|  245|       2306|  0.106244579358196|\n",
      "| tertiary| no| 1157|       1350|  0.857037037037037|\n",
      "| tertiary|yes|  193|       1350|0.14296296296296296|\n",
      "|  unknown| no|  168|        187| 0.8983957219251337|\n",
      "|  unknown|yes|   19|        187|0.10160427807486631|\n",
      "+---------+---+-----+-----------+-------------------+\n",
      "\n"
     ]
    }
   ],
   "source": [
    "# 1. marital과 y별로 count\n",
    "marital_y_count = df.groupBy('education', 'y').count()\n",
    "\n",
    "# 2. marital별 전체 count 구하기\n",
    "marital_total = df.groupBy('education').count().withColumnRenamed('count', 'total_count')\n",
    "\n",
    "# 3. 두 데이터프레임 join\n",
    "joined = marital_y_count.join(marital_total, on='education')\n",
    "\n",
    "# 4. y별 marital 내 비율 계산\n",
    "result = joined.withColumn('ratio', col('count') / col('total_count'))\n",
    "\n",
    "# 결과 출력\n",
    "result.select('education', 'y', 'count', 'total_count', 'ratio').orderBy('education', 'y').show()"
   ]
  },
  {
   "cell_type": "code",
   "execution_count": 20,
   "id": "f6ccb286-07c2-4dbf-9c80-3f39d0cb854e",
   "metadata": {},
   "outputs": [
    {
     "name": "stdout",
     "output_type": "stream",
     "text": [
      "+---+------------------+\n",
      "|  y|       avg_balance|\n",
      "+---+------------------+\n",
      "| no|        1403.21175|\n",
      "|yes|1571.9558541266795|\n",
      "+---+------------------+\n",
      "\n"
     ]
    }
   ],
   "source": [
    "from pyspark.sql.functions import avg\n",
    "\n",
    "# y별 평균 balance 계산\n",
    "df.groupBy(\"y\").agg(avg(\"balance\").alias(\"avg_balance\")).show()"
   ]
  },
  {
   "cell_type": "code",
   "execution_count": 18,
   "id": "9bd0bb98-174f-459a-b172-f7df1896d625",
   "metadata": {},
   "outputs": [
    {
     "data": {
      "image/png": "[encoded data removed]",
      "text/plain": [
       "<Figure size 640x480 with 1 Axes>"
      ]
     },
     "metadata": {},
     "output_type": "display_data"
    }
   ],
   "source": [
    "import seaborn as sns\n",
    "import matplotlib.pyplot as plt\n",
    "\n",
    "sns.boxplot(x='y', y='balance', data=df.toPandas())\n",
    "plt.title(\"Balance by Marketing Response (y)\")\n",
    "plt.show()"
   ]
  },
  {
   "cell_type": "code",
   "execution_count": null,
   "id": "469a938a-45ac-41f1-b2a0-5735d64a293b",
   "metadata": {},
   "outputs": [],
   "source": [
    "from pyspark.sql.functions import floor, col\n",
    "\n",
    "df = df.withColumn('age_group', floor(col('age') / 10) * 10)\n",
    "df = df.drop(\"y\",'day','age')\n",
    "\n",
    "df.printSchema()"
   ]
  },
  {
   "cell_type": "code",
   "execution_count": 34,
   "id": "4fc08d49-18e2-4f53-a31d-133f712a90f2",
   "metadata": {},
   "outputs": [],
   "source": [
    "spark.stop()"
   ]
  },
  {
   "cell_type": "code",
   "execution_count": null,
   "id": "8dea2912-482b-4c21-b9a6-ee700e15a58e",
   "metadata": {},
   "outputs": [],
   "source": []
  }
 ],
 "metadata": {
  "kernelspec": {
   "display_name": "Python 3 (ipykernel)",
   "language": "python",
   "name": "python3"
  },
  "language_info": {
   "codemirror_mode": {
    "name": "ipython",
    "version": 3
   },
   "file_extension": ".py",
   "mimetype": "text/x-python",
   "name": "python",
   "nbconvert_exporter": "python",
   "pygments_lexer": "ipython3",
   "version": "3.11.6"
  }
 },
 "nbformat": 4,
 "nbformat_minor": 5
}
