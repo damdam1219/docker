{
 "cells": [
  {
   "cell_type": "markdown",
   "id": "0a6e07b1-9342-426e-8315-d0bb304502bc",
   "metadata": {},
   "source": [
    "# 회귀모델"
   ]
  },
  {
   "cell_type": "code",
   "execution_count": 2,
   "id": "14a7e4ad-b3bb-47cc-9656-27c3c5b22d04",
   "metadata": {},
   "outputs": [],
   "source": [
    "from pyspark.sql import SparkSession\n",
    "\n",
    "spark = SparkSession.builder.appName(\"taxi-data\").getOrCreate()"
   ]
  },
  {
   "cell_type": "code",
   "execution_count": 10,
   "id": "84b129f5-22f8-4b24-a559-7c7984a37321",
   "metadata": {},
   "outputs": [
    {
     "data": {
      "text/plain": [
       "'/home/jovyan/work/learning_spark_data/tips_data/trips/*.csv'"
      ]
     },
     "execution_count": 10,
     "metadata": {},
     "output_type": "execute_result"
    }
   ],
   "source": [
    "import os\n",
    "cwd = os.getcwd()\n",
    "trip_data_path = os.path.join(cwd, 'learning_spark_data','tips_data','trips','*.csv')\n",
    "trip_data_path"
   ]
  },
  {
   "cell_type": "code",
   "execution_count": 11,
   "id": "a111b5d7-28e4-4060-aa0e-5ef51a74c4cf",
   "metadata": {},
   "outputs": [
    {
     "data": {
      "text/plain": [
       "'file:////home/jovyan/work/learning_spark_data/tips_data/trips/*.csv'"
      ]
     },
     "execution_count": 11,
     "metadata": {},
     "output_type": "execute_result"
    }
   ],
   "source": [
    "file_path = f\"file:///{trip_data_path.replace(os.sep,'/')}\"\n",
    "file_path"
   ]
  },
  {
   "cell_type": "code",
   "execution_count": 12,
   "id": "989ca04f-7e50-4f05-8e14-aab3fdc66383",
   "metadata": {},
   "outputs": [
    {
     "name": "stdout",
     "output_type": "stream",
     "text": [
      "root\n",
      " |-- VendorID: integer (nullable = true)\n",
      " |-- tpep_pickup_datetime: timestamp (nullable = true)\n",
      " |-- tpep_dropoff_datetime: timestamp (nullable = true)\n",
      " |-- passenger_count: integer (nullable = true)\n",
      " |-- trip_distance: double (nullable = true)\n",
      " |-- RatecodeID: integer (nullable = true)\n",
      " |-- store_and_fwd_flag: string (nullable = true)\n",
      " |-- PULocationID: integer (nullable = true)\n",
      " |-- DOLocationID: integer (nullable = true)\n",
      " |-- payment_type: integer (nullable = true)\n",
      " |-- fare_amount: double (nullable = true)\n",
      " |-- extra: double (nullable = true)\n",
      " |-- mta_tax: double (nullable = true)\n",
      " |-- tip_amount: double (nullable = true)\n",
      " |-- tolls_amount: double (nullable = true)\n",
      " |-- improvement_surcharge: double (nullable = true)\n",
      " |-- total_amount: double (nullable = true)\n",
      " |-- congestion_surcharge: double (nullable = true)\n",
      "\n"
     ]
    }
   ],
   "source": [
    "trip_df = spark.read.csv(file_path, inferSchema = True, header = True)\n",
    "trip_df.printSchema()"
   ]
  },
  {
   "cell_type": "markdown",
   "id": "b9e4cbdc-6af3-4973-bb04-ecd237697d45",
   "metadata": {},
   "source": [
    "## 운행거리에 따른 요금 예측"
   ]
  },
  {
   "cell_type": "code",
   "execution_count": 15,
   "id": "3013ed3a-dd69-4bdc-8958-246cd95344ba",
   "metadata": {},
   "outputs": [],
   "source": [
    "trip_df.createOrReplaceTempView('trips')"
   ]
  },
  {
   "cell_type": "code",
   "execution_count": 16,
   "id": "d8b9da98-d7ae-4ef7-9e37-e5e5dc3d7dc7",
   "metadata": {},
   "outputs": [],
   "source": [
    "query = \"\"\"\n",
    "SELECT\n",
    "    trip_distance,\n",
    "    total_amount\n",
    "FROM trips\n",
    "\n",
    "WHERE total_amount < 5000\n",
    "  AND total_amount > 0\n",
    "  AND trip_distance > 0\n",
    "  AND trip_distance < 500\n",
    "  AND passenger_count < 4\n",
    "  AND TO_DATE(tpep_pickup_datetime) >= \"2021-01-01\"\n",
    "  AND TO_DATE(tpep_pickup_datetime) < \"2021-08-01\"\n",
    "\"\"\""
   ]
  },
  {
   "cell_type": "code",
   "execution_count": 17,
   "id": "997fe8ba-fcab-406c-9627-ffe454e408db",
   "metadata": {},
   "outputs": [],
   "source": [
    "trip_df = spark.sql(query)\n",
    "trip_df.createOrReplaceTempView('data')"
   ]
  },
  {
   "cell_type": "code",
   "execution_count": 20,
   "id": "a04b6df5-def9-45a1-8eea-da942c86950c",
   "metadata": {},
   "outputs": [
    {
     "name": "stdout",
     "output_type": "stream",
     "text": [
      "+-------------+------------+\n",
      "|trip_distance|total_amount|\n",
      "+-------------+------------+\n",
      "|         16.5|       70.07|\n",
      "|         1.13|       11.16|\n",
      "|         2.68|       18.59|\n",
      "|         12.4|        43.8|\n",
      "|          9.7|        32.3|\n",
      "+-------------+------------+\n",
      "\n"
     ]
    }
   ],
   "source": [
    "query = '''\n",
    "SELECT * \n",
    "FROM DATA\n",
    "LIMIT 5\n",
    "'''\n",
    "\n",
    "spark.sql(query).show()"
   ]
  },
  {
   "cell_type": "code",
   "execution_count": 23,
   "id": "ef5c37a1-de11-486c-8d1a-bbe4c49b5a74",
   "metadata": {},
   "outputs": [
    {
     "name": "stdout",
     "output_type": "stream",
     "text": [
      "+-------------+------------+\n",
      "|trip_distance|total_amount|\n",
      "+-------------+------------+\n",
      "|         0.01|        3.05|\n",
      "|         0.01|         3.3|\n",
      "|         0.01|         3.3|\n",
      "|         0.01|         3.3|\n",
      "|         0.01|         3.3|\n",
      "+-------------+------------+\n",
      "only showing top 5 rows\n",
      "\n",
      "+-------------+------------+\n",
      "|trip_distance|total_amount|\n",
      "+-------------+------------+\n",
      "|         0.01|         3.3|\n",
      "|         0.01|         3.3|\n",
      "|         0.01|         3.3|\n",
      "|         0.01|         3.3|\n",
      "|         0.01|         3.3|\n",
      "+-------------+------------+\n",
      "only showing top 5 rows\n",
      "\n"
     ]
    },
    {
     "data": {
      "text/plain": [
       "(None, None)"
      ]
     },
     "execution_count": 23,
     "metadata": {},
     "output_type": "execute_result"
    }
   ],
   "source": [
    "# train, test split 8:2, seed = 1\n",
    "train_data, test_data = trip_df.randomSplit([0.8,0.2], seed=1)\n",
    "train_data.show(5), test_data.show(5)"
   ]
  },
  {
   "cell_type": "code",
   "execution_count": 24,
   "id": "7c909bd9-0788-492c-b476-0437c083d9b9",
   "metadata": {},
   "outputs": [
    {
     "name": "stdout",
     "output_type": "stream",
     "text": [
      "+--------+------------+\n",
      "|features|total_amount|\n",
      "+--------+------------+\n",
      "|  [0.01]|        3.05|\n",
      "|  [0.01]|         3.3|\n",
      "|  [0.01]|         3.3|\n",
      "|  [0.01]|         3.3|\n",
      "|  [0.01]|         3.3|\n",
      "+--------+------------+\n",
      "only showing top 5 rows\n",
      "\n"
     ]
    }
   ],
   "source": [
    "# Vecterassembler > features > trip_distance, target : total_amount\n",
    "\n",
    "# FeatureVector 생성\n",
    "from pyspark.ml.feature import VectorAssembler\n",
    "\n",
    "assembler = VectorAssembler(\n",
    "    inputCols=['trip_distance'],\n",
    "    outputCol='features'\n",
    ")\n",
    "train_data = assembler.transform(train_data) # 먼저 train 부터 벡터화\n",
    "train_data.select('features','total_amount').show(5)"
   ]
  },
  {
   "cell_type": "code",
   "execution_count": 25,
   "id": "2b86206e-729c-47e1-bf53-66a561b8ae54",
   "metadata": {},
   "outputs": [
    {
     "name": "stdout",
     "output_type": "stream",
     "text": [
      "+--------+------------+-----------------+\n",
      "|features|total_amount|       prediction|\n",
      "+--------+------------+-----------------+\n",
      "|  [0.01]|         3.3|9.430440745312902|\n",
      "|  [0.01]|         3.3|9.430440745312902|\n",
      "|  [0.01]|         3.3|9.430440745312902|\n",
      "|  [0.01]|         3.3|9.430440745312902|\n",
      "|  [0.01]|         3.3|9.430440745312902|\n",
      "+--------+------------+-----------------+\n",
      "only showing top 5 rows\n",
      "\n"
     ]
    }
   ],
   "source": [
    "# linearRegression 생성 maxIter = 50, labelCol = 'total_amount',featuresCol = 'features'\n",
    "from pyspark.ml.regression import LinearRegression\n",
    "\n",
    "lr = LinearRegression(maxIter=50, labelCol='total_amount', featuresCol='features')\n",
    "lr_model = lr.fit(train_data)\n",
    "\n",
    "test_data = assembler.transform(test_data) # 만들어진 어셈블러로 test 벡터화\n",
    "predic = lr_model.transform(test_data)\n",
    "predic.select('features', 'total_amount', 'prediction').show(5)"
   ]
  },
  {
   "cell_type": "code",
   "execution_count": 26,
   "id": "cf82c017-3dc4-4d5b-951f-30e2b53a2b41",
   "metadata": {},
   "outputs": [
    {
     "name": "stdout",
     "output_type": "stream",
     "text": [
      "RMSE: 6.30781413196623\n"
     ]
    }
   ],
   "source": [
    "print(\"RMSE:\", lr_model.summary.rootMeanSquaredError)"
   ]
  },
  {
   "cell_type": "code",
   "execution_count": 27,
   "id": "6c0cb07f-9def-402a-b721-6b4eeeefbddd",
   "metadata": {},
   "outputs": [
    {
     "name": "stdout",
     "output_type": "stream",
     "text": [
      "r2: 0.7648633777017714\n"
     ]
    }
   ],
   "source": [
    "print(\"r2:\", lr_model.summary.r2)"
   ]
  },
  {
   "cell_type": "markdown",
   "id": "6daec14d-8e7f-4505-ad6e-2bf4c4127812",
   "metadata": {},
   "source": [
    "## 새로운 데이터로 예측하기\n",
    "\n"
   ]
  },
  {
   "cell_type": "code",
   "execution_count": 40,
   "id": "d6540895-36c7-4062-a125-257690da52f8",
   "metadata": {},
   "outputs": [
    {
     "name": "stdout",
     "output_type": "stream",
     "text": [
      "+-------------+\n",
      "|trip_distance|\n",
      "+-------------+\n",
      "|          1.1|\n",
      "|          9.4|\n",
      "|         10.2|\n",
      "|         30.0|\n",
      "+-------------+\n",
      "\n"
     ]
    }
   ],
   "source": [
    "new_distance_list = [1.1, 9.4, 10.2, 30.0]\n",
    "distance_df = spark.createDataFrame(new_distance_list, DoubleType()).toDF('trip_distance')\n",
    "distance_df.show()"
   ]
  },
  {
   "cell_type": "code",
   "execution_count": 41,
   "id": "d3535911-4909-4221-90ea-1106fe689067",
   "metadata": {},
   "outputs": [
    {
     "name": "stdout",
     "output_type": "stream",
     "text": [
      "+-------------+--------+------------------+\n",
      "|trip_distance|features|        prediction|\n",
      "+-------------+--------+------------------+\n",
      "|          1.1|   [1.1]|12.672809485363317|\n",
      "|          9.4|   [9.4]| 37.36240631327014|\n",
      "|         10.2|  [10.2]| 39.74212648945393|\n",
      "|         30.0|  [30.0]| 98.64020085000274|\n",
      "+-------------+--------+------------------+\n",
      "\n"
     ]
    }
   ],
   "source": [
    "vdistance_df = assembler.transform(distance_df)\n",
    "lr_model.transform(vdistance_df).show()"
   ]
  },
  {
   "cell_type": "code",
   "execution_count": 42,
   "id": "0e625d8f-6b45-4c4d-9c92-015c7fbc04a6",
   "metadata": {},
   "outputs": [],
   "source": [
    "spark.stop()"
   ]
  },
  {
   "cell_type": "code",
   "execution_count": null,
   "id": "72130c83-f8b6-424e-a27c-cc4003e24558",
   "metadata": {},
   "outputs": [],
   "source": []
  }
 ],
 "metadata": {
  "kernelspec": {
   "display_name": "Python 3 (ipykernel)",
   "language": "python",
   "name": "python3"
  },
  "language_info": {
   "codemirror_mode": {
    "name": "ipython",
    "version": 3
   },
   "file_extension": ".py",
   "mimetype": "text/x-python",
   "name": "python",
   "nbconvert_exporter": "python",
   "pygments_lexer": "ipython3",
   "version": "3.11.6"
  }
 },
 "nbformat": 4,
 "nbformat_minor": 5
}
