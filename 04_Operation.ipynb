{
 "cells": [
  {
   "cell_type": "markdown",
   "id": "b47a7c99-0058-4fe1-ab12-1017e8e6543d",
   "metadata": {},
   "source": [
    "# Reduce"
   ]
  },
  {
   "cell_type": "markdown",
   "id": "aa87e60b-6132-4753-aaac-cb532239c3bc",
   "metadata": {},
   "source": [
    "RDD.reduce(<func>)\n",
    "사용자가 지정하는 함수를 받아 여러 개의 값을 하나로 줄여줍니다."
   ]
  },
  {
   "cell_type": "code",
   "execution_count": 1,
   "id": "6fbcd082-3e20-48c2-85ae-e0816edd05b6",
   "metadata": {},
   "outputs": [],
   "source": [
    "from pyspark.sql import SparkSession\n",
    "\n",
    "spark = SparkSession.builder.getOrCreate()\n",
    "sc = spark.sparkContext"
   ]
  },
  {
   "cell_type": "code",
   "execution_count": 2,
   "id": "ef2e0d6f-9797-4539-a0a7-47ea973e2ded",
   "metadata": {},
   "outputs": [],
   "source": [
    "from operator import add"
   ]
  },
  {
   "cell_type": "code",
   "execution_count": 3,
   "id": "21e993a5-42c1-41e4-bd44-73e732acea03",
   "metadata": {},
   "outputs": [
    {
     "data": {
      "text/plain": [
       "ParallelCollectionRDD[0] at readRDDFromFile at PythonRDD.scala:289"
      ]
     },
     "execution_count": 3,
     "metadata": {},
     "output_type": "execute_result"
    }
   ],
   "source": [
    "sample_rdd = sc.parallelize([1, 2, 3, 4, 5])\n",
    "sample_rdd"
   ]
  },
  {
   "cell_type": "code",
   "execution_count": 4,
   "id": "eac77b05-9cdc-4c96-ac62-34ce134c4d0a",
   "metadata": {},
   "outputs": [
    {
     "data": {
      "text/plain": [
       "15"
      ]
     },
     "execution_count": 4,
     "metadata": {},
     "output_type": "execute_result"
    }
   ],
   "source": [
    "#RDD에 있는 숫자의 합계를 계산:\n",
    "sample_rdd.reduce(add)"
   ]
  },
  {
   "cell_type": "code",
   "execution_count": 5,
   "id": "6126afd0-fcb4-4056-b32a-b2e460a0a76d",
   "metadata": {},
   "outputs": [
    {
     "data": {
      "text/plain": [
       "18"
      ]
     },
     "execution_count": 5,
     "metadata": {},
     "output_type": "execute_result"
    }
   ],
   "source": [
    "sample_rdd = sc.parallelize([1, 2, 3, 4])\n",
    "sample_rdd.reduce(lambda x, y : (x * 2)+ y)"
   ]
  },
  {
   "cell_type": "code",
   "execution_count": 15,
   "id": "97d76e3e-b1a2-4715-92ee-c2f8ff84f25c",
   "metadata": {},
   "outputs": [
    {
     "data": {
      "text/plain": [
       "18"
      ]
     },
     "execution_count": 15,
     "metadata": {},
     "output_type": "execute_result"
    }
   ],
   "source": [
    "# 파티션을 3개로 지정 \n",
    "sc.parallelize([1, 2, 3, 4], 3).reduce(lambda x, y : (x * 2) + y)"
   ]
  },
  {
   "cell_type": "markdown",
   "id": "f6111f3c-3ab3-4a19-83f5-2a0ffb4e1953",
   "metadata": {},
   "source": [
    "<계산방법>\n",
    "\n",
    "[1] | [2] | [3,4] = 18\n",
    "\n",
    "-> 이런 경우 데이터가 균등하지 않기 때문에 조심해야한다."
   ]
  },
  {
   "cell_type": "code",
   "execution_count": 7,
   "id": "1440c809-5a8b-49d6-b743-5011692541c8",
   "metadata": {},
   "outputs": [
    {
     "data": {
      "text/plain": [
       "18"
      ]
     },
     "execution_count": 7,
     "metadata": {},
     "output_type": "execute_result"
    }
   ],
   "source": [
    "sc.parallelize([1, 2, 3, 4], 2).reduce(lambda x, y : (x * 2) + y)"
   ]
  },
  {
   "cell_type": "markdown",
   "id": "c461dd25-e02c-45d1-b289-d5df0325d57b",
   "metadata": {},
   "source": [
    "<계산방법>\n",
    "\n",
    "[1,2], [3,4]\n",
    "\n",
    "1> 1*2+2 = 4\n",
    "\n",
    "2> 3*2+4 = 10\n",
    "\n",
    "1+2> 4,10 -> 4*2+10 = 18"
   ]
  },
  {
   "cell_type": "code",
   "execution_count": 10,
   "id": "091a31fd-ac3c-48c1-ba6c-a86f9b84ed51",
   "metadata": {},
   "outputs": [
    {
     "data": {
      "text/plain": [
       "26"
      ]
     },
     "execution_count": 10,
     "metadata": {},
     "output_type": "execute_result"
    }
   ],
   "source": [
    "sc.parallelize([1, 2, 3, 4], 1).reduce(lambda x, y : (x * 2) + y)"
   ]
  },
  {
   "cell_type": "markdown",
   "id": "dac938bf-5529-4024-98a1-a58d647c9f92",
   "metadata": {},
   "source": [
    "<계산방법>\n",
    "\n",
    "x=1,y=2 -> 1*2 + 2 = 4\n",
    "\n",
    "x=4, y=3 -> 4*2+3 = 11\n",
    "\n",
    "x=11, y=4 -> 11*2+4=26"
   ]
  },
  {
   "cell_type": "markdown",
   "id": "0922e5f5-9779-4da6-8b45-ae30952efdd4",
   "metadata": {},
   "source": [
    "# Fold\n",
    "RDD.fold(zeroValue, <func>)\n",
    "reduce와 비슷하지만, zeroValue에 넣어놓고 싶은 시작값을 지정해서 reduce가 가능\n",
    "zeroValue는 파티션 마다 계산이 일어날 때 하나씩 더해지는 값\n",
    "fold()를 사용하여 합계를 구하되, 초기값을 지정"
   ]
  },
  {
   "cell_type": "code",
   "execution_count": 16,
   "id": "7352128b-a17e-4efa-9e43-4396d12202de",
   "metadata": {},
   "outputs": [
    {
     "name": "stdout",
     "output_type": "stream",
     "text": [
      "24\n",
      "24\n"
     ]
    }
   ],
   "source": [
    "rdd = sc.parallelize([2, 3, 4], 4)\n",
    "\n",
    "#숫자의 곱을 계산해서 합한다\n",
    "print(rdd.reduce(lambda x, y : (x * y))) # 2 x 3 -> x 4\n",
    "print(rdd.fold(1, lambda x , y : (x * y))) # 1 x 2 x 3 x 4"
   ]
  },
  {
   "cell_type": "code",
   "execution_count": 17,
   "id": "d7cdf8de-aa74-4d23-a579-dccb11f739e4",
   "metadata": {},
   "outputs": [
    {
     "name": "stdout",
     "output_type": "stream",
     "text": [
      "Total sum: 500000500000\n"
     ]
    }
   ],
   "source": [
    "# 대규모 숫자 데이터셋 생성\n",
    "numbers_rdd = sc.parallelize(range(1, 1000001))\n",
    "\n",
    "# fold를 사용하여 총합계 계산\n",
    "total_sum = numbers_rdd.fold(0, lambda x, y: x + y)\n",
    "\n",
    "print(f\"Total sum: {total_sum}\")"
   ]
  },
  {
   "cell_type": "markdown",
   "id": "157d46fd-84ab-4238-b606-19a0f7e7acb2",
   "metadata": {},
   "source": [
    "특정 데이터가 없을 때 0으로 계산"
   ]
  },
  {
   "cell_type": "code",
   "execution_count": 18,
   "id": "cafa3407-3e84-422e-a886-ed4de09ddb59",
   "metadata": {},
   "outputs": [
    {
     "name": "stdout",
     "output_type": "stream",
     "text": [
      "Maximum salary by department:\n",
      "IT: 65000\n",
      "HR: 50000\n",
      "Finance: 55000\n"
     ]
    }
   ],
   "source": [
    "# 부서별 직원 급여 데이터\n",
    "dept_salaries = [(\"IT\", 50000), (\"HR\", 45000), (\"IT\", 60000), \n",
    "                 (\"Finance\", 55000), (\"HR\", 50000), (\"IT\", 65000)]\n",
    "dept_rdd = sc.parallelize(dept_salaries)\n",
    "\n",
    "# foldByKey를 사용하여 부서별 최대 급여 찾기\n",
    "max_salary_by_dept = dept_rdd.foldByKey(0, lambda x, y: max(x, y))\n",
    "\n",
    "print(\"Maximum salary by department:\")\n",
    "for dept, max_salary in max_salary_by_dept.collect():\n",
    "    print(f\"{dept}: {max_salary}\")"
   ]
  },
  {
   "cell_type": "markdown",
   "id": "fe45f612-78fe-4c22-a8fa-1ed767008ba7",
   "metadata": {},
   "source": [
    "# GroupBy\n",
    "RDD.groupBy(<func>)\n",
    "그룹핑 함수를 받아 reduction\n",
    "groupBy() 메서드는 주어진 함수를 기준으로 RDD의 요소들을 그룹화합니다."
   ]
  },
  {
   "cell_type": "code",
   "execution_count": 20,
   "id": "b4e0c160-e69e-4aa2-b728-db80d2ff3cae",
   "metadata": {},
   "outputs": [
    {
     "data": {
      "text/plain": [
       "[(0, [2, 8]), (1, [1, 1, 3, 5])]"
      ]
     },
     "execution_count": 20,
     "metadata": {},
     "output_type": "execute_result"
    }
   ],
   "source": [
    "rdd = sc.parallelize([1, 1, 2, 3, 5, 8])\n",
    "result = rdd.groupBy(lambda x : x % 2).collect()\n",
    "\n",
    "sorted([(x, sorted(y)) for (x, y) in result])"
   ]
  },
  {
   "cell_type": "code",
   "execution_count": 22,
   "id": "d3f0adc0-60c8-4253-b8a2-3ed9444576fd",
   "metadata": {},
   "outputs": [],
   "source": [
    "#판매 데이터 분석 (카테고리별 총 매출 계산)\n",
    "sales_data = [\n",
    "    (\"Electronics\", 1000),\n",
    "    (\"Clothing\", 500),\n",
    "    (\"Electronics\", 1500),\n",
    "    (\"Books\", 300),\n",
    "    (\"Clothing\", 750),\n",
    "    (\"Books\", 200)\n",
    "]"
   ]
  },
  {
   "cell_type": "code",
   "execution_count": 23,
   "id": "9e9597e9-2815-447c-8ca7-7d6c2394bedb",
   "metadata": {},
   "outputs": [
    {
     "name": "stdout",
     "output_type": "stream",
     "text": [
      "Clothing: $1250\n",
      "Electronics: $2500\n",
      "Books: $500\n"
     ]
    }
   ],
   "source": [
    "# RDD 생성\n",
    "sales_rdd = sc.parallelize(sales_data)\n",
    "\n",
    "# 카테고리별 총 매출 계산\n",
    "category_sales = sales_rdd.groupBy(lambda x: x[0]) \\\n",
    "    .mapValues(lambda values: sum(item[1] for item in values)) \\\n",
    "    .collect()\n",
    "\n",
    "# 결과 출력\n",
    "for category, total_sales in category_sales:\n",
    "    print(f\"{category}: ${total_sales}\")"
   ]
  },
  {
   "cell_type": "markdown",
   "id": "6f49fa86-5c7d-4dd8-942c-0bdf81fd5a9a",
   "metadata": {},
   "source": [
    "## 예제"
   ]
  },
  {
   "cell_type": "code",
   "execution_count": 30,
   "id": "6fd1d0eb-9569-49fc-8ad1-eebf2c5cdfa6",
   "metadata": {},
   "outputs": [
    {
     "name": "stdout",
     "output_type": "stream",
     "text": [
      "[('192.168.1.1', 3), ('192.168.1.2', 2), ('192.168.1.3', 1)]\n"
     ]
    }
   ],
   "source": [
    "#로그 데이터 처리 (IP 주소별 접속 횟수 분석)\n",
    "# SparkContext 생성 가정 (sc)\n",
    "log_data = [\n",
    "    (\"192.168.1.1\", \"login\"),\n",
    "    (\"192.168.1.2\", \"purchase\"),\n",
    "    (\"192.168.1.1\", \"view\"),\n",
    "    (\"192.168.1.3\", \"login\"),\n",
    "    (\"192.168.1.2\", \"login\"),\n",
    "    (\"192.168.1.1\", \"purchase\")\n",
    "]\n",
    "\n",
    "# RDD 생성\n",
    "log_rdd = sc.parallelize(log_data)\n",
    "\n",
    "ip_rdd = log_rdd.map(lambda x: (x[0], 1))\n",
    "\n",
    "# ip별 log 분석\n",
    "result = ip_rdd.reduceByKey(lambda a, b: a + b)\n",
    "\n",
    "print(result.collect()) # 실제 연산 후 보여주기"
   ]
  },
  {
   "cell_type": "code",
   "execution_count": 32,
   "id": "a47e38a2-99cb-4fe6-9e98-2a572254874d",
   "metadata": {},
   "outputs": [
    {
     "name": "stdout",
     "output_type": "stream",
     "text": [
      "[('login', 3), ('view', 1), ('purchase', 2)]\n"
     ]
    }
   ],
   "source": [
    "#로그 데이터 처리 (IP 주소별 접속 횟수 분석)\n",
    "# SparkContext 생성 가정 (sc)\n",
    "log_data = [\n",
    "    (\"192.168.1.1\", \"login\"),\n",
    "    (\"192.168.1.2\", \"purchase\"),\n",
    "    (\"192.168.1.1\", \"view\"),\n",
    "    (\"192.168.1.3\", \"login\"),\n",
    "    (\"192.168.1.2\", \"login\"),\n",
    "    (\"192.168.1.1\", \"purchase\")\n",
    "]\n",
    "\n",
    "# RDD 생성\n",
    "log_rdd = sc.parallelize(log_data)\n",
    "\n",
    "ip_rdd = log_rdd.map(lambda x: (x[1], 1))\n",
    "\n",
    "# ip별 log 분석\n",
    "result = ip_rdd.reduceByKey(lambda a, b: a + b)\n",
    "\n",
    "print(result.collect()) # 실제 연산 후 보여주기"
   ]
  },
  {
   "cell_type": "code",
   "execution_count": 31,
   "id": "88002528-4112-41e4-bd55-b492972238f7",
   "metadata": {},
   "outputs": [
    {
     "name": "stdout",
     "output_type": "stream",
     "text": [
      "[('Science', 85.0), ('Math', 88.5), ('English', 92.5)]\n"
     ]
    }
   ],
   "source": [
    "#학생 성적 데이터 분석 (과목별 평균 성적 계산)\n",
    "# SparkContext 생성 가정 (sc)\n",
    "student_grades = [\n",
    "    (\"Math\", 85),\n",
    "    (\"English\", 90),\n",
    "    (\"Math\", 92),\n",
    "    (\"Science\", 88),\n",
    "    (\"English\", 95),\n",
    "    (\"Science\", 82)\n",
    "]\n",
    "\n",
    "# RDD 생성\n",
    "grades_rdd = sc.parallelize(student_grades)\n",
    "\n",
    "# (과목, (점수, 1))로 변환해서 누적\n",
    "sum_count = grades_rdd.combineByKey(\n",
    "    lambda value: (value, 1),                   # 첫 값\n",
    "    lambda acc, value: (acc[0] + value, acc[1] + 1),  # 같은 키 누적\n",
    "    lambda acc1, acc2: (acc1[0] + acc2[0], acc1[1] + acc2[1]) # 파티션 병합\n",
    ")\n",
    "\n",
    "# 평균 계산\n",
    "averages = sum_count.mapValues(lambda x: x[0] / x[1])\n",
    "\n",
    "print(averages.collect())"
   ]
  },
  {
   "cell_type": "code",
   "execution_count": 33,
   "id": "83a53aee-5919-4aa3-a878-719d63b0a59c",
   "metadata": {},
   "outputs": [
    {
     "name": "stdout",
     "output_type": "stream",
     "text": [
      "[('Science', 85.0), ('Math', 88.5), ('English', 92.5)]\n"
     ]
    }
   ],
   "source": [
    "# 그룹바이 함수 사용하기\n",
    "\n",
    "# 데이터\n",
    "student_grades = [\n",
    "    (\"Math\", 85),\n",
    "    (\"English\", 90),\n",
    "    (\"Math\", 92),\n",
    "    (\"Science\", 88),\n",
    "    (\"English\", 95),\n",
    "    (\"Science\", 82)\n",
    "]\n",
    "\n",
    "grades_rdd = sc.parallelize(student_grades)\n",
    "\n",
    "# groupByKey로 과목별 점수 리스트 만들기\n",
    "grouped = grades_rdd.groupByKey()\n",
    "\n",
    "# 점수 평균 계산\n",
    "averages = grouped.mapValues(lambda scores: sum(scores) / len(scores))\n",
    "\n",
    "print(averages.collect())"
   ]
  },
  {
   "cell_type": "markdown",
   "id": "c65a8f42-658a-49af-b015-b73e8c04fa0c",
   "metadata": {},
   "source": [
    "\n",
    "# aggregate"
   ]
  },
  {
   "cell_type": "code",
   "execution_count": 34,
   "id": "9407e051-0ebb-4b88-9dc3-5d9bd2283959",
   "metadata": {},
   "outputs": [
    {
     "data": {
      "text/plain": [
       "[1, 5, 3, 9, 2, 8, 4, 7, 6]"
      ]
     },
     "execution_count": 34,
     "metadata": {},
     "output_type": "execute_result"
    }
   ],
   "source": [
    "from pyspark import SparkContext\n",
    "\n",
    "sc = SparkContext.getOrCreate()\n",
    "numbers = sc.parallelize([1, 5, 3, 9, 2, 8, 4, 7, 6], numSlices=3)\n",
    "numbers.collect()"
   ]
  },
  {
   "cell_type": "markdown",
   "id": "54878300-c574-46b8-b667-d995dc496512",
   "metadata": {},
   "source": [
    "glom()은 각 파티션의 내용을 리스트로 감싸서 반환\n",
    "\n",
    "즉, 파티션 간의 이동이 없고, 내부 자료구조만 바꾸는 연산\n",
    "\n",
    "glom()은 RDD의 각 파티션을 배열 형태로 변환하는 narrow transformation"
   ]
  },
  {
   "cell_type": "code",
   "execution_count": 35,
   "id": "804f78c2-2bae-4c59-a3d2-d3c12c389e37",
   "metadata": {},
   "outputs": [
    {
     "data": {
      "text/plain": [
       "[[1, 5, 3], [9, 2, 8], [4, 7, 6]]"
      ]
     },
     "execution_count": 35,
     "metadata": {},
     "output_type": "execute_result"
    }
   ],
   "source": [
    "numbers.glom().collect()"
   ]
  },
  {
   "cell_type": "code",
   "execution_count": 36,
   "id": "5481fff6-293d-4a0b-8b00-9d9bee843364",
   "metadata": {},
   "outputs": [],
   "source": [
    "numbers = sc.parallelize([1, 5, 3, 9, 2, 8, 4, 7, 6])"
   ]
  },
  {
   "cell_type": "code",
   "execution_count": 37,
   "id": "4144d9fc-0574-4fe9-9dc7-ab75a295a56f",
   "metadata": {},
   "outputs": [
    {
     "data": {
      "text/plain": [
       "(45, 9)"
      ]
     },
     "execution_count": 37,
     "metadata": {},
     "output_type": "execute_result"
    }
   ],
   "source": [
    "# 평균 계산하기\n",
    "sum_count = numbers.aggregate(\n",
    "    (0, 0),  # 초기값 (합계, 개수)\n",
    "    lambda acc, value: (acc[0] + value, acc[1] + 1),  # 각 파티션 내 연산\n",
    "    lambda acc1, acc2: (acc1[0] + acc2[0], acc1[1] + acc2[1])  # 파티션 간 연산\n",
    ")\n",
    "sum_count # (내부 합, 갯수)"
   ]
  },
  {
   "cell_type": "code",
   "execution_count": 38,
   "id": "a2896242-e363-425a-873d-22890c530171",
   "metadata": {},
   "outputs": [
    {
     "name": "stdout",
     "output_type": "stream",
     "text": [
      "Average: 5.0\n"
     ]
    }
   ],
   "source": [
    "average = sum_count[0] / sum_count[1]\n",
    "print(\"Average:\", average)  # 5.0"
   ]
  },
  {
   "cell_type": "markdown",
   "id": "9d3304c7-f49f-4321-8413-abf1fa9c0d83",
   "metadata": {},
   "source": [
    "## agg 연습"
   ]
  },
  {
   "cell_type": "code",
   "execution_count": 44,
   "id": "bcd9d776-b87b-468f-a311-094e07488061",
   "metadata": {},
   "outputs": [
    {
     "name": "stdout",
     "output_type": "stream",
     "text": [
      "1:hello 1:world 2:spark\n"
     ]
    }
   ],
   "source": [
    "data = [\"hello\", \"world\", \"spark\"]\n",
    "rdd = sc.parallelize(data) # SPARK가 내부적으로 파티션을 나눔(기본 1개 이상)\n",
    "\n",
    "def seq_op(acc, value):\n",
    "    text, idx = acc\n",
    "    return (f\"{text} {idx}:{value}\".strip(), idx + 1)\n",
    "    # 현재까지의 문자열에 idx:value 형식으로 붙임\n",
    "\n",
    "def comb_op(acc1, acc2):\n",
    "    # 줄 번호 이어붙이기: 앞쪽 text 유지 + 뒤쪽 text 뒤에 붙이기\n",
    "    text1, idx1 = acc1\n",
    "    text2, idx2 = acc2\n",
    "    # 줄 번호 충돌 피하려면 idx 조정 필요 (복잡하므로 단순히 붙임)\n",
    "    return (f\"{text1} {text2}\".strip(), idx1 + idx2)\n",
    "\n",
    "zero = (\"\", 1) # 빈 문자열과 시작 인덱스 1\n",
    "\n",
    "result = rdd.aggregate(zero, seq_op, comb_op)[0]\n",
    "print(result)"
   ]
  },
  {
   "cell_type": "markdown",
   "id": "8c1bf1c1-d475-48be-aa53-006d1cc05825",
   "metadata": {},
   "source": [
    "파티션  = >  hello | world spark"
   ]
  },
  {
   "cell_type": "code",
   "execution_count": 42,
   "id": "224d359b-85a7-43b1-be7f-9e8ef51e5110",
   "metadata": {},
   "outputs": [
    {
     "name": "stdout",
     "output_type": "stream",
     "text": [
      "1:spark 2:hadoop 1:ai 2:python 3:sql\n"
     ]
    }
   ],
   "source": [
    "rdd = sc.parallelize([\"spark\", \"hadoop\", \"ai\", \"python\", \"sql\"])\n",
    "result = rdd.aggregate(zero, seq_op, comb_op)[0]\n",
    "print(result)"
   ]
  },
  {
   "cell_type": "markdown",
   "id": "415e1b86-fd2e-4312-ba8c-19ef3aa45110",
   "metadata": {},
   "source": [
    "파티션 => \n",
    "spark hadoop | ai python | sql"
   ]
  },
  {
   "cell_type": "code",
   "execution_count": 43,
   "id": "e98463bf-9683-4a78-8e4c-4539927079a5",
   "metadata": {},
   "outputs": [
    {
     "name": "stdout",
     "output_type": "stream",
     "text": [
      "길이 5 이상인 문자열 개수: 3\n"
     ]
    }
   ],
   "source": [
    "# 길이가 5 이상인 문자열 개수 세기\n",
    "rdd = sc.parallelize([\"spark\", \"hadoop\", \"ai\", \"python\", \"sql\"])\n",
    "\n",
    "result = rdd.aggregate(\n",
    "    0,\n",
    "    lambda acc, value: acc + (1 if len(value) >= 5 else 0),\n",
    "    lambda acc1, acc2: acc1 + acc2\n",
    ")\n",
    "\n",
    "print(\"길이 5 이상인 문자열 개수:\", result)"
   ]
  },
  {
   "cell_type": "code",
   "execution_count": 46,
   "id": "672dd0b0-7c6a-47f1-b673-35535a545524",
   "metadata": {},
   "outputs": [],
   "source": [
    "spark.stop()"
   ]
  },
  {
   "cell_type": "code",
   "execution_count": null,
   "id": "34f245ab-8165-4d37-9e88-1842b2dc1464",
   "metadata": {},
   "outputs": [],
   "source": []
  }
 ],
 "metadata": {
  "kernelspec": {
   "display_name": "Python 3 (ipykernel)",
   "language": "python",
   "name": "python3"
  },
  "language_info": {
   "codemirror_mode": {
    "name": "ipython",
    "version": 3
   },
   "file_extension": ".py",
   "mimetype": "text/x-python",
   "name": "python",
   "nbconvert_exporter": "python",
   "pygments_lexer": "ipython3",
   "version": "3.11.6"
  }
 },
 "nbformat": 4,
 "nbformat_minor": 5
}
