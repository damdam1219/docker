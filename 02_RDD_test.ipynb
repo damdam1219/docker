{
 "cells": [
  {
   "cell_type": "code",
   "execution_count": 1,
   "id": "ecc83f12-27c5-4830-aec2-e4cb21d7d574",
   "metadata": {},
   "outputs": [],
   "source": [
    "from pyspark.sql import SparkSession\n",
    "spark = SparkSession.builder.appName('pyspark example1').getOrCreate()"
   ]
  },
  {
   "cell_type": "code",
   "execution_count": 8,
   "id": "946ebfd3-df2b-41c7-8f90-b63b74278b8c",
   "metadata": {},
   "outputs": [],
   "source": [
    "spark.stop()"
   ]
  },
  {
   "cell_type": "markdown",
   "id": "c442ebc7-07c2-454b-9880-5d5361f999ad",
   "metadata": {},
   "source": [
    "# RDD에서 다룰 수 있는 데이터 타입(TypeSafe)"
   ]
  },
  {
   "cell_type": "markdown",
   "id": "e2b5f532-ed80-4993-8671-e9bdf9d0eff1",
   "metadata": {},
   "source": [
    "1. 비정형 데이터: ...jSON...\n",
    "2. 정형 데이터:  List, csv, table\n"
   ]
  },
  {
   "cell_type": "code",
   "execution_count": 2,
   "id": "9c2f8b3e-12d4-4111-bbe6-e7b60266b84b",
   "metadata": {},
   "outputs": [],
   "source": [
    "rdd_1 = spark.sparkContext.textFile('learing_spark_data/lod.txt')"
   ]
  },
  {
   "cell_type": "code",
   "execution_count": 5,
   "id": "ed69431f-06e8-4a43-b0ee-1a1fa5c7353d",
   "metadata": {},
   "outputs": [],
   "source": [
    "import json\n",
    "rdd2 = spark.sparkContext.textFile('learing_spark_data/data.json').map(json.loads)"
   ]
  },
  {
   "cell_type": "markdown",
   "id": "1784109e-5f38-4038-a19e-36bcac637648",
   "metadata": {},
   "source": [
    "# RDD 의 데이터 읽기 패턴\n",
    "1. RDD생성: type지정 하지 않기\n",
    "2. 형식변환: map()\n",
    "3. take(n)\n",
    "\n",
    "# 스파크컨텍스트 객체\n",
    "1. SparkSesstion.getOrCreate: 세션객체로 부터 사전에 설정된 변수에 맞춰 컨텍스트를 생성\n",
    "2. SparkConf + SparkContext -> 저수준 연산에 적합한 방식"
   ]
  },
  {
   "cell_type": "code",
   "execution_count": 7,
   "id": "e1bd0012-24b4-4174-bc64-db32760f6561",
   "metadata": {},
   "outputs": [
    {
     "data": {
      "text/plain": [
       "<pyspark.conf.SparkConf at 0x7f10e057fa90>"
      ]
     },
     "execution_count": 7,
     "metadata": {},
     "output_type": "execute_result"
    }
   ],
   "source": [
    "from pyspark import SparkConf, SparkContext\n",
    "\n",
    "conf = SparkConf().setMaster('local').setAppName('country-stdent-counts2')\n",
    "conf\n"
   ]
  },
  {
   "cell_type": "code",
   "execution_count": 9,
   "id": "271cdba4-6296-42cb-bde0-ed2eadd3da32",
   "metadata": {},
   "outputs": [],
   "source": [
    "spark = SparkContext(conf = conf).getOrCreate()"
   ]
  },
  {
   "cell_type": "code",
   "execution_count": 10,
   "id": "c5c649e2-8b2e-421d-bcf2-bdb1870c91e8",
   "metadata": {},
   "outputs": [
    {
     "data": {
      "text/plain": [
       "[('spark.master', 'local'),\n",
       " ('spark.driver.host', '6c8dcd110e07'),\n",
       " ('spark.app.name', 'country-stdent-counts2'),\n",
       " ('spark.executor.id', 'driver'),\n",
       " ('spark.driver.extraJavaOptions',\n",
       "  '-Djava.net.preferIPv6Addresses=false -XX:+IgnoreUnrecognizedVMOptions --add-opens=java.base/java.lang=ALL-UNNAMED --add-opens=java.base/java.lang.invoke=ALL-UNNAMED --add-opens=java.base/java.lang.reflect=ALL-UNNAMED --add-opens=java.base/java.io=ALL-UNNAMED --add-opens=java.base/java.net=ALL-UNNAMED --add-opens=java.base/java.nio=ALL-UNNAMED --add-opens=java.base/java.util=ALL-UNNAMED --add-opens=java.base/java.util.concurrent=ALL-UNNAMED --add-opens=java.base/java.util.concurrent.atomic=ALL-UNNAMED --add-opens=java.base/sun.nio.ch=ALL-UNNAMED --add-opens=java.base/sun.nio.cs=ALL-UNNAMED --add-opens=java.base/sun.security.action=ALL-UNNAMED --add-opens=java.base/sun.util.calendar=ALL-UNNAMED --add-opens=java.security.jgss/sun.security.krb5=ALL-UNNAMED -Djdk.reflect.useDirectMethodHandle=false'),\n",
       " ('spark.rdd.compress', 'True'),\n",
       " ('spark.app.submitTime', '1754024962224'),\n",
       " ('spark.serializer.objectStreamReset', '100'),\n",
       " ('spark.submit.pyFiles', ''),\n",
       " ('spark.app.startTime', '1754026366370'),\n",
       " ('spark.submit.deployMode', 'client'),\n",
       " ('spark.driver.port', '33747'),\n",
       " ('spark.app.id', 'local-1754026366409'),\n",
       " ('spark.ui.showConsoleProgress', 'true'),\n",
       " ('spark.executor.extraJavaOptions',\n",
       "  '-Djava.net.preferIPv6Addresses=false -XX:+IgnoreUnrecognizedVMOptions --add-opens=java.base/java.lang=ALL-UNNAMED --add-opens=java.base/java.lang.invoke=ALL-UNNAMED --add-opens=java.base/java.lang.reflect=ALL-UNNAMED --add-opens=java.base/java.io=ALL-UNNAMED --add-opens=java.base/java.net=ALL-UNNAMED --add-opens=java.base/java.nio=ALL-UNNAMED --add-opens=java.base/java.util=ALL-UNNAMED --add-opens=java.base/java.util.concurrent=ALL-UNNAMED --add-opens=java.base/java.util.concurrent.atomic=ALL-UNNAMED --add-opens=java.base/sun.nio.ch=ALL-UNNAMED --add-opens=java.base/sun.nio.cs=ALL-UNNAMED --add-opens=java.base/sun.security.action=ALL-UNNAMED --add-opens=java.base/sun.util.calendar=ALL-UNNAMED --add-opens=java.security.jgss/sun.security.krb5=ALL-UNNAMED -Djdk.reflect.useDirectMethodHandle=false')]"
      ]
     },
     "execution_count": 10,
     "metadata": {},
     "output_type": "execute_result"
    }
   ],
   "source": [
    "spark.getConf().getAll()"
   ]
  },
  {
   "cell_type": "code",
   "execution_count": 11,
   "id": "cb96f3b0-bf72-40dc-99e0-051ca3b3a78a",
   "metadata": {},
   "outputs": [],
   "source": [
    "spark.stop()"
   ]
  },
  {
   "cell_type": "code",
   "execution_count": 12,
   "id": "40b54c2d-c925-4488-aae3-0c27e72a5a1f",
   "metadata": {},
   "outputs": [
    {
     "data": {
      "text/plain": [
       "'/home/jovyan/work'"
      ]
     },
     "execution_count": 12,
     "metadata": {},
     "output_type": "execute_result"
    }
   ],
   "source": [
    "import os\n",
    "os.getcwd() # 컨테이너 내부 경로"
   ]
  },
  {
   "cell_type": "code",
   "execution_count": 13,
   "id": "3f93a874-e23b-4c39-94e9-59a76e733ba5",
   "metadata": {},
   "outputs": [
    {
     "data": {
      "text/plain": [
       "'/home/jovyan/work/learning_spark_data'"
      ]
     },
     "execution_count": 13,
     "metadata": {},
     "output_type": "execute_result"
    }
   ],
   "source": [
    "dir = os.path.join(os.getcwd(), 'learning_spark_data')\n",
    "dir"
   ]
  },
  {
   "cell_type": "code",
   "execution_count": 14,
   "id": "6b15df35-d86e-4fb2-ad94-be53562852e3",
   "metadata": {},
   "outputs": [
    {
     "data": {
      "text/plain": [
       "'/home/jovyan/work/learning_spark_data/xAPI-Edu-Data.csv'"
      ]
     },
     "execution_count": 14,
     "metadata": {},
     "output_type": "execute_result"
    }
   ],
   "source": [
    "filename  = 'xAPI-Edu-Data.csv'\n",
    "filepath = os.path.join(dir, filename)\n",
    "filepath"
   ]
  },
  {
   "cell_type": "code",
   "execution_count": 15,
   "id": "739cb3e6-8bfb-4adf-884b-86c7e8cb7faa",
   "metadata": {},
   "outputs": [],
   "source": [
    "spark = SparkContext(conf = conf).getOrCreate()"
   ]
  },
  {
   "cell_type": "code",
   "execution_count": 16,
   "id": "658ab798-d572-4ade-8e51-476b34bd4200",
   "metadata": {},
   "outputs": [
    {
     "data": {
      "text/plain": [
       "file:////home/jovyan/work/learning_spark_data/xAPI-Edu-Data.csv MapPartitionsRDD[1] at textFile at NativeMethodAccessorImpl.java:0"
      ]
     },
     "execution_count": 16,
     "metadata": {},
     "output_type": "execute_result"
    }
   ],
   "source": [
    "lines = spark.textFile('file:///'+filepath.replace('\\\\', '/'))\n",
    "lines"
   ]
  },
  {
   "cell_type": "code",
   "execution_count": 17,
   "id": "7510d48c-e243-48d8-a5fd-d018ec749738",
   "metadata": {},
   "outputs": [],
   "source": [
    "header = lines.first()"
   ]
  },
  {
   "cell_type": "code",
   "execution_count": 18,
   "id": "61d1b5e7-1c79-4814-9c4c-b7e3cfe84e01",
   "metadata": {},
   "outputs": [
    {
     "data": {
      "text/plain": [
       "['M,KW,KuwaIT,lowerlevel,G-04,A,IT,F,Father,15,16,2,20,Yes,Good,Under-7,M',\n",
       " 'M,KW,KuwaIT,lowerlevel,G-04,A,IT,F,Father,20,20,3,25,Yes,Good,Under-7,M',\n",
       " 'M,KW,KuwaIT,lowerlevel,G-04,A,IT,F,Father,10,7,0,30,No,Bad,Above-7,L']"
      ]
     },
     "execution_count": 18,
     "metadata": {},
     "output_type": "execute_result"
    }
   ],
   "source": [
    "datas = lines.filter(lambda row : row != header)\n",
    "datas.take(3)"
   ]
  },
  {
   "cell_type": "code",
   "execution_count": 21,
   "id": "454699be-5496-4fea-8875-c8dd9de3edf9",
   "metadata": {},
   "outputs": [],
   "source": [
    "conturies = datas.map(lambda row:row.split(',')[2])"
   ]
  },
  {
   "cell_type": "code",
   "execution_count": 22,
   "id": "a316cbf9-2615-4cb4-86ba-b36cc1a8c8b7",
   "metadata": {},
   "outputs": [
    {
     "data": {
      "text/plain": [
       "PythonRDD[5] at RDD at PythonRDD.scala:53"
      ]
     },
     "execution_count": 22,
     "metadata": {},
     "output_type": "execute_result"
    }
   ],
   "source": [
    "conturies"
   ]
  },
  {
   "cell_type": "code",
   "execution_count": 23,
   "id": "b9f5ec25-d274-4731-af0d-b5f26bd6355b",
   "metadata": {},
   "outputs": [
    {
     "data": {
      "text/plain": [
       "['KuwaIT', 'KuwaIT', 'KuwaIT']"
      ]
     },
     "execution_count": 23,
     "metadata": {},
     "output_type": "execute_result"
    }
   ],
   "source": [
    "conturies.take(3)"
   ]
  },
  {
   "cell_type": "code",
   "execution_count": 25,
   "id": "2b1e0c02-4052-40c2-abd2-5d610d1410e5",
   "metadata": {},
   "outputs": [
    {
     "data": {
      "text/plain": [
       "defaultdict(int,\n",
       "            {'KuwaIT': 180,\n",
       "             'lebanon': 19,\n",
       "             'Egypt': 9,\n",
       "             'SaudiArabia': 16,\n",
       "             'USA': 16,\n",
       "             'Jordan': 176,\n",
       "             'venzuela': 1,\n",
       "             'Iran': 6,\n",
       "             'Tunis': 9,\n",
       "             'Morocco': 4,\n",
       "             'Syria': 6,\n",
       "             'Iraq': 22,\n",
       "             'Palestine': 10,\n",
       "             'Lybia': 6})"
      ]
     },
     "execution_count": 25,
     "metadata": {},
     "output_type": "execute_result"
    }
   ],
   "source": [
    "result = conturies.countByValue()\n",
    "result"
   ]
  },
  {
   "cell_type": "code",
   "execution_count": 26,
   "id": "5bf78370-8742-43ac-b331-eaa585714fff",
   "metadata": {},
   "outputs": [
    {
     "data": {
      "text/plain": [
       "dict_items([('KuwaIT', 180), ('lebanon', 19), ('Egypt', 9), ('SaudiArabia', 16), ('USA', 16), ('Jordan', 176), ('venzuela', 1), ('Iran', 6), ('Tunis', 9), ('Morocco', 4), ('Syria', 6), ('Iraq', 22), ('Palestine', 10), ('Lybia', 6)])"
      ]
     },
     "execution_count": 26,
     "metadata": {},
     "output_type": "execute_result"
    }
   ],
   "source": [
    "result.items()"
   ]
  },
  {
   "cell_type": "code",
   "execution_count": 28,
   "id": "5960e8a4-b912-4177-be06-5533d69d6a2f",
   "metadata": {},
   "outputs": [
    {
     "data": {
      "text/plain": [
       "[('KuwaIT', 180),\n",
       " ('Jordan', 176),\n",
       " ('Iraq', 22),\n",
       " ('lebanon', 19),\n",
       " ('SaudiArabia', 16),\n",
       " ('USA', 16),\n",
       " ('Palestine', 10),\n",
       " ('Egypt', 9),\n",
       " ('Tunis', 9),\n",
       " ('Iran', 6),\n",
       " ('Syria', 6),\n",
       " ('Lybia', 6),\n",
       " ('Morocco', 4),\n",
       " ('venzuela', 1)]"
      ]
     },
     "execution_count": 28,
     "metadata": {},
     "output_type": "execute_result"
    }
   ],
   "source": [
    "sorted(result.items(),key = lambda x:x[1],reverse = True)"
   ]
  },
  {
   "cell_type": "code",
   "execution_count": 30,
   "id": "72d7095c-5ba2-46ca-8f3b-0c4e792c88cc",
   "metadata": {},
   "outputs": [
    {
     "name": "stdout",
     "output_type": "stream",
     "text": [
      "[('KuwaIT', 180), ('Jordan', 176), ('Iraq', 22)]\n"
     ]
    }
   ],
   "source": [
    "# 정렬된 리스트를 변수에 저장\n",
    "sorted_list = sorted(result.items(), key=lambda x: x[1], reverse=True)\n",
    "\n",
    "# 상위 3개 항목만 슬라이싱으로 추출\n",
    "top3 = sorted_list[:3]\n",
    "\n",
    "print(top3)"
   ]
  },
  {
   "cell_type": "code",
   "execution_count": 33,
   "id": "83e715e1-b4fd-4066-8ac1-a08319c5297d",
   "metadata": {},
   "outputs": [],
   "source": [
    "total_sum = sum(result.values())"
   ]
  },
  {
   "cell_type": "code",
   "execution_count": 35,
   "id": "f0a79aa0-3631-4ef6-9235-8e9664038a82",
   "metadata": {},
   "outputs": [],
   "source": [
    "ratio = {k:round(v/total_sum*100,2)for k,v in result.items()}\n",
    "    "
   ]
  },
  {
   "cell_type": "code",
   "execution_count": 36,
   "id": "34ff44b0-ae0c-4416-a146-dc8faf4a2a08",
   "metadata": {},
   "outputs": [
    {
     "data": {
      "text/plain": [
       "{'KuwaIT': 37.5,\n",
       " 'lebanon': 3.96,\n",
       " 'Egypt': 1.88,\n",
       " 'SaudiArabia': 3.33,\n",
       " 'USA': 3.33,\n",
       " 'Jordan': 36.67,\n",
       " 'venzuela': 0.21,\n",
       " 'Iran': 1.25,\n",
       " 'Tunis': 1.88,\n",
       " 'Morocco': 0.83,\n",
       " 'Syria': 1.25,\n",
       " 'Iraq': 4.58,\n",
       " 'Palestine': 2.08,\n",
       " 'Lybia': 1.25}"
      ]
     },
     "execution_count": 36,
     "metadata": {},
     "output_type": "execute_result"
    }
   ],
   "source": [
    "ratio"
   ]
  },
  {
   "cell_type": "code",
   "execution_count": 38,
   "id": "f3610850-cfb8-4799-aa6f-d59f48ebbae0",
   "metadata": {},
   "outputs": [
    {
     "data": {
      "text/plain": [
       "<BarContainer object of 14 artists>"
      ]
     },
     "execution_count": 38,
     "metadata": {},
     "output_type": "execute_result"
    },
    {
     "data": {
      "image/png": "[encoded data removed]",
      "text/plain": [
       "<Figure size 640x480 with 1 Axes>"
      ]
     },
     "metadata": {},
     "output_type": "display_data"
    }
   ],
   "source": [
    "import matplotlib.pyplot as plt\n",
    "conrtry = list(result.keys())\n",
    "counts = list(result.values())\n",
    "plt.bar(conrtry, counts)"
   ]
  },
  {
   "cell_type": "markdown",
   "id": "8ab95685-4c62-4a07-a9eb-804e9ce03533",
   "metadata": {},
   "source": [
    "## RDD 연습"
   ]
  },
  {
   "cell_type": "code",
   "execution_count": 51,
   "id": "ad1b158c-ba90-4528-ad75-c81e33529e52",
   "metadata": {},
   "outputs": [],
   "source": [
    "spark = SparkSession.builder.appName('pyspark example2').getOrCreate() "
   ]
  },
  {
   "cell_type": "code",
   "execution_count": 52,
   "id": "a00c5222-037e-44f4-977e-d13d1cf021d6",
   "metadata": {},
   "outputs": [
    {
     "data": {
      "text/plain": [
       "ParallelCollectionRDD[14] at readRDDFromFile at PythonRDD.scala:289"
      ]
     },
     "execution_count": 52,
     "metadata": {},
     "output_type": "execute_result"
    }
   ],
   "source": [
    "# 2. RDD 생성 - 기본 리스트\n",
    "data = [\"KuwaIT\", \"lebanon\", \"Jordan\", \"Jordan\", \"USA\", \"Egypt\", \n",
    "        \"Jordan\", \"USA\", \"Iran\", \"Iran\", \"KuwaIT\"]\n",
    "\n",
    "countries = spark.sparkContext.parallelize(data)\n",
    "countries"
   ]
  },
  {
   "cell_type": "code",
   "execution_count": 53,
   "id": "d83d139c-3884-4295-b664-105e87cadf2e",
   "metadata": {},
   "outputs": [
    {
     "data": {
      "text/plain": [
       "['kuwait', 'lebanon', 'jordan', 'jordan', 'usa']"
      ]
     },
     "execution_count": 53,
     "metadata": {},
     "output_type": "execute_result"
    }
   ],
   "source": [
    "# 소문자로 변환 lower()\n",
    "countries_lower = countries.map(lambda x:x.lower())\n",
    "countries_lower.take(5)"
   ]
  },
  {
   "cell_type": "code",
   "execution_count": 54,
   "id": "4ff6dd7d-448d-4fa5-a74f-0b8473734eac",
   "metadata": {},
   "outputs": [
    {
     "data": {
      "text/plain": [
       "['jordan', 'jordan', 'jordan']"
      ]
     },
     "execution_count": 54,
     "metadata": {},
     "output_type": "execute_result"
    }
   ],
   "source": [
    "# jordan 추출\n",
    "jordan = countries_lower.filter(lambda x:x=='jordan')\n",
    "jordan.collect()"
   ]
  },
  {
   "cell_type": "code",
   "execution_count": 55,
   "id": "4b77e7d4-cabd-4dc8-bd3e-b3f7b82dda6b",
   "metadata": {},
   "outputs": [
    {
     "data": {
      "text/plain": [
       "6"
      ]
     },
     "execution_count": 55,
     "metadata": {},
     "output_type": "execute_result"
    }
   ],
   "source": [
    "# 몇개국인지 세어보세요 : distinct()> count()\n",
    "unique_countries = countries_lower.distinct()\n",
    "unique_countries.count()"
   ]
  },
  {
   "cell_type": "code",
   "execution_count": 56,
   "id": "60b69858-9c92-44ed-8ade-eff016b4bc00",
   "metadata": {},
   "outputs": [
    {
     "data": {
      "text/plain": [
       "[('kuwait', 1)]"
      ]
     },
     "execution_count": 56,
     "metadata": {},
     "output_type": "execute_result"
    }
   ],
   "source": [
    "# 국가별 빈도수\n",
    "data\n",
    "country_pairs = countries_lower.map(lambda x: (x,1))\n",
    "country_pairs.take(1)"
   ]
  },
  {
   "cell_type": "code",
   "execution_count": 57,
   "id": "b3cd1ab5-2c43-40e7-94ee-64216264acea",
   "metadata": {},
   "outputs": [
    {
     "data": {
      "text/plain": [
       "[('kuwait', 2), ('lebanon', 1)]"
      ]
     },
     "execution_count": 57,
     "metadata": {},
     "output_type": "execute_result"
    }
   ],
   "source": [
    "country_counts = country_pairs.reduceByKey(lambda a,b: a+b)\n",
    "country_counts.take(2)"
   ]
  },
  {
   "cell_type": "code",
   "execution_count": 58,
   "id": "440bcc2c-b961-4a6e-a0b5-405da893adc4",
   "metadata": {},
   "outputs": [
    {
     "data": {
      "text/plain": [
       "[('kuwait', 2),\n",
       " ('lebanon', 1),\n",
       " ('jordan', 3),\n",
       " ('usa', 2),\n",
       " ('egypt', 1),\n",
       " ('iran', 2)]"
      ]
     },
     "execution_count": 58,
     "metadata": {},
     "output_type": "execute_result"
    }
   ],
   "source": [
    "country_counts.take(6)"
   ]
  },
  {
   "cell_type": "code",
   "execution_count": 59,
   "id": "63e645d0-3562-46e5-82cf-9403b6782f31",
   "metadata": {},
   "outputs": [
    {
     "data": {
      "text/plain": [
       "[('kuwait', 2),\n",
       " ('lebanon', 1),\n",
       " ('jordan', 3),\n",
       " ('usa', 2),\n",
       " ('egypt', 1),\n",
       " ('iran', 2)]"
      ]
     },
     "execution_count": 59,
     "metadata": {},
     "output_type": "execute_result"
    }
   ],
   "source": [
    "country_counts.collect()"
   ]
  },
  {
   "cell_type": "code",
   "execution_count": 60,
   "id": "9e36e7bc-5c95-41e8-b32b-d413eaa30bcd",
   "metadata": {},
   "outputs": [
    {
     "data": {
      "text/plain": [
       "[('egypt', 1),\n",
       " ('iran', 2),\n",
       " ('jordan', 3),\n",
       " ('kuwait', 2),\n",
       " ('lebanon', 1),\n",
       " ('usa', 2)]"
      ]
     },
     "execution_count": 60,
     "metadata": {},
     "output_type": "execute_result"
    }
   ],
   "source": [
    "country_counts.sortByKey().collect()"
   ]
  },
  {
   "cell_type": "code",
   "execution_count": 61,
   "id": "28515463-6c60-4baa-a795-a3602e50f8d8",
   "metadata": {},
   "outputs": [
    {
     "data": {
      "text/plain": [
       "[('jordan', 3),\n",
       " ('kuwait', 2),\n",
       " ('usa', 2),\n",
       " ('iran', 2),\n",
       " ('lebanon', 1),\n",
       " ('egypt', 1)]"
      ]
     },
     "execution_count": 61,
     "metadata": {},
     "output_type": "execute_result"
    }
   ],
   "source": [
    "country_counts.sortBy( lambda x:x[1], ascending=False).collect()"
   ]
  },
  {
   "cell_type": "code",
   "execution_count": 62,
   "id": "f04cecf1-d111-41c7-829a-e0476581651d",
   "metadata": {},
   "outputs": [
    {
     "data": {
      "text/plain": [
       "'KuwaIT,lebanon,Jordan,Jordan,USA,Egypt,Jordan,USA,Iran,Iran,KuwaIT'"
      ]
     },
     "execution_count": 62,
     "metadata": {},
     "output_type": "execute_result"
    }
   ],
   "source": [
    "countries.reduce(lambda a, b: a+','+b) #변환"
   ]
  },
  {
   "cell_type": "markdown",
   "id": "3bbb32df-35cb-4f66-af5a-4761bf3ac15c",
   "metadata": {},
   "source": [
    "# 저장소에 저장하기"
   ]
  },
  {
   "cell_type": "code",
   "execution_count": 65,
   "id": "d97f11f2-8304-47aa-bfbd-ff4ad601e9b3",
   "metadata": {},
   "outputs": [],
   "source": [
    "output_path = 'output/countrise_result'"
   ]
  },
  {
   "cell_type": "code",
   "execution_count": 66,
   "id": "6fce09c0-b54f-449e-a860-2f86e50be54e",
   "metadata": {},
   "outputs": [],
   "source": [
    "countries.saveAsTextFile(output_path) # 저장소경로"
   ]
  },
  {
   "cell_type": "code",
   "execution_count": 70,
   "id": "f8ae91ba-05ac-47cc-b81e-7c7f0ec006b1",
   "metadata": {},
   "outputs": [],
   "source": [
    "import shutil"
   ]
  },
  {
   "cell_type": "code",
   "execution_count": 71,
   "id": "a05fe8a8-2650-4e93-99dc-dbf35f8d13bc",
   "metadata": {},
   "outputs": [],
   "source": [
    "if os.path.exists(output_path):\n",
    "    shutil.rmtree(output_path)\n",
    "countries.saveAsTextFile(output_path) # 저장소 경로"
   ]
  },
  {
   "cell_type": "code",
   "execution_count": 72,
   "id": "4420e22f-9653-4509-b915-99a1ad070ffa",
   "metadata": {},
   "outputs": [],
   "source": [
    "spark.stop()"
   ]
  },
  {
   "cell_type": "markdown",
   "id": "de29537c-3fb0-4fb8-9e28-14310606d320",
   "metadata": {},
   "source": [
    "## mnm_dataset.csv 를 읽어서 주별 총 사탕수 구하기\r",
    "### \n",
    "주별, 색상별 개수"
   ]
  },
  {
   "cell_type": "code",
   "execution_count": 7,
   "id": "2f604aa4-bea6-44eb-b74a-b98a65716705",
   "metadata": {},
   "outputs": [],
   "source": [
    "from pyspark.sql import SparkSession\n",
    "spark = SparkSession.builder.appName('pyspark example2').getOrCreate() "
   ]
  },
  {
   "cell_type": "code",
   "execution_count": 14,
   "id": "40580431-8bb8-418b-8d6e-27910b0e53da",
   "metadata": {},
   "outputs": [],
   "source": [
    "rdd = spark.sparkContext.textFile('learning_spark_data/mnm_dataset.csv')"
   ]
  },
  {
   "cell_type": "code",
   "execution_count": 20,
   "id": "428ee1b5-7a16-402d-a252-f36678ad67b7",
   "metadata": {},
   "outputs": [],
   "source": [
    "header = rdd.first()\n",
    "data = rdd.filter(lambda line: line != header)\\\n",
    ".map(lambda line:line.split(','))"
   ]
  },
  {
   "cell_type": "code",
   "execution_count": 21,
   "id": "12829f1b-9570-47ba-b816-f194973cf5c9",
   "metadata": {},
   "outputs": [
    {
     "data": {
      "text/plain": [
       "[['TX', 'Red', '20'], ['NV', 'Blue', '66'], ['CO', 'Blue', '79']]"
      ]
     },
     "execution_count": 21,
     "metadata": {},
     "output_type": "execute_result"
    }
   ],
   "source": [
    "data.take(3)"
   ]
  },
  {
   "cell_type": "code",
   "execution_count": 22,
   "id": "d8f37174-407d-4932-a5a6-dbc630015006",
   "metadata": {},
   "outputs": [
    {
     "data": {
      "text/plain": [
       "[('TX', 20), ('NV', 66), ('CO', 79)]"
      ]
     },
     "execution_count": 22,
     "metadata": {},
     "output_type": "execute_result"
    }
   ],
   "source": [
    "rdd1 = data.map(lambda x:(x[0], int (x[2])))\n",
    "rdd1.take(3)"
   ]
  },
  {
   "cell_type": "code",
   "execution_count": 23,
   "id": "ddba4220-389a-4e60-aebf-2b67631b7915",
   "metadata": {},
   "outputs": [
    {
     "data": {
      "text/plain": [
       "[('TX', 556493), ('NV', 548477), ('CO', 556302)]"
      ]
     },
     "execution_count": 23,
     "metadata": {},
     "output_type": "execute_result"
    }
   ],
   "source": [
    "rdd1 = rdd1.reduceByKey(lambda a,b: a+b)\n",
    "rdd1.take(3)"
   ]
  },
  {
   "cell_type": "code",
   "execution_count": 25,
   "id": "768a9205-59a7-4755-be73-c9891d9046fc",
   "metadata": {},
   "outputs": [
    {
     "data": {
      "text/plain": [
       "[(('TX', 'Red'), 95404), (('NV', 'Blue'), 90003), (('CO', 'Blue'), 93412)]"
      ]
     },
     "execution_count": 25,
     "metadata": {},
     "output_type": "execute_result"
    }
   ],
   "source": [
    "# state, color count\n",
    "rdd3 = data.map(lambda x:((x[0], x[1]), int(x[2])))\\\n",
    ". reduceByKey(lambda a, b: a+b)\n",
    "\n",
    "rdd3.take(3)"
   ]
  },
  {
   "cell_type": "code",
   "execution_count": 26,
   "id": "546defd2-4054-410a-8d70-c96245059088",
   "metadata": {},
   "outputs": [
    {
     "data": {
      "text/plain": [
       "[(('TX', 'Red'), 95404),\n",
       " (('NV', 'Blue'), 90003),\n",
       " (('CO', 'Blue'), 93412),\n",
       " (('OR', 'Blue'), 90526),\n",
       " (('WA', 'Yellow'), 92920),\n",
       " (('WY', 'Blue'), 91002),\n",
       " (('CA', 'Yellow'), 100956),\n",
       " (('WA', 'Green'), 96486),\n",
       " (('OR', 'Green'), 89578),\n",
       " (('TX', 'Green'), 95753),\n",
       " (('NV', 'Green'), 91331),\n",
       " (('AZ', 'Brown'), 92287),\n",
       " (('AZ', 'Blue'), 89971),\n",
       " (('OR', 'Brown'), 89136),\n",
       " (('NV', 'Red'), 89346),\n",
       " (('WY', 'Orange'), 87956),\n",
       " (('TX', 'Brown'), 90736),\n",
       " (('CO', 'Red'), 89465),\n",
       " (('AZ', 'Green'), 91882),\n",
       " (('NM', 'Yellow'), 92747),\n",
       " (('WA', 'Red'), 93332),\n",
       " (('WY', 'Red'), 91768),\n",
       " (('TX', 'Orange'), 92315),\n",
       " (('WY', 'Yellow'), 87800),\n",
       " (('CO', 'Orange'), 90971),\n",
       " (('NV', 'Orange'), 93929),\n",
       " (('WY', 'Green'), 94339),\n",
       " (('CA', 'Green'), 93505),\n",
       " (('UT', 'Red'), 90995),\n",
       " (('CA', 'Red'), 91527),\n",
       " (('TX', 'Yellow'), 93819),\n",
       " (('WA', 'Orange'), 91521),\n",
       " (('AZ', 'Orange'), 91684),\n",
       " (('AZ', 'Red'), 90042),\n",
       " (('CA', 'Blue'), 89123),\n",
       " (('CO', 'Brown'), 93692),\n",
       " (('UT', 'Green'), 88392),\n",
       " (('NM', 'Green'), 91160),\n",
       " (('NV', 'Yellow'), 91390),\n",
       " (('TX', 'Blue'), 88466),\n",
       " (('WA', 'Brown'), 93082),\n",
       " (('OR', 'Red'), 90286),\n",
       " (('UT', 'Blue'), 89977),\n",
       " (('NM', 'Brown'), 93447),\n",
       " (('UT', 'Yellow'), 89264),\n",
       " (('UT', 'Brown'), 88973),\n",
       " (('WY', 'Brown'), 86110),\n",
       " (('WA', 'Blue'), 89886),\n",
       " (('CA', 'Orange'), 90311),\n",
       " (('OR', 'Orange'), 94514),\n",
       " (('AZ', 'Yellow'), 90946),\n",
       " (('CA', 'Brown'), 95762),\n",
       " (('NM', 'Blue'), 90150),\n",
       " (('CO', 'Green'), 93724),\n",
       " (('NV', 'Brown'), 92478),\n",
       " (('NM', 'Orange'), 91251),\n",
       " (('OR', 'Yellow'), 88129),\n",
       " (('UT', 'Orange'), 91341),\n",
       " (('NM', 'Red'), 94699),\n",
       " (('CO', 'Yellow'), 95038)]"
      ]
     },
     "execution_count": 26,
     "metadata": {},
     "output_type": "execute_result"
    }
   ],
   "source": [
    "rdd3.collect()"
   ]
  },
  {
   "cell_type": "code",
   "execution_count": 28,
   "id": "4325b742-f6d5-4dc8-acfd-ef439605c496",
   "metadata": {},
   "outputs": [],
   "source": [
    "# output으로 내보내기\n",
    "import os\n",
    "output_path = 'output/mnms_result'\n",
    "\n",
    "if os.path.exists(output_path):\n",
    "    shutil.rmtree(output_path)\n",
    "rdd3.saveAsTextFile(output_path) #저장소 경로"
   ]
  },
  {
   "cell_type": "code",
   "execution_count": null,
   "id": "1273147f-2b0b-4bbd-8d40-57c176ef3d48",
   "metadata": {},
   "outputs": [],
   "source": []
  },
  {
   "cell_type": "code",
   "execution_count": 36,
   "id": "269a3b2f-2249-4e91-9f07-86f532232867",
   "metadata": {},
   "outputs": [
    {
     "name": "stdout",
     "output_type": "stream",
     "text": [
      "Setting default log level to \"WARN\".\n",
      "To adjust logging level use sc.setLogLevel(newLevel). For SparkR, use setLogLevel(newLevel).\n",
      "25/08/04 02:06:44 WARN NativeCodeLoader: Unable to load native-hadoop library for your platform... using builtin-java classes where applicable\n",
      "25/08/04 02:06:45 WARN Utils: Service 'SparkUI' could not bind on port 4040. Attempting port 4041.\n",
      "결과 미리보기----\n",
      "(('TX', 'Red'), 95404)\n",
      "(('NV', 'Blue'), 90003)\n",
      "(('CO', 'Blue'), 93412)\n",
      "(('OR', 'Blue'), 90526)\n",
      "(('WA', 'Yellow'), 92920)\n",
      "총 데이터 라인 수 : 60\n"
     ]
    }
   ],
   "source": [
    "!python 02_mnms_result_test.py "
   ]
  },
  {
   "cell_type": "code",
   "execution_count": null,
   "id": "b3841bae-8555-467d-9edf-0c61c37ee18b",
   "metadata": {},
   "outputs": [],
   "source": []
  }
 ],
 "metadata": {
  "kernelspec": {
   "display_name": "Python 3 (ipykernel)",
   "language": "python",
   "name": "python3"
  },
  "language_info": {
   "codemirror_mode": {
    "name": "ipython",
    "version": 3
   },
   "file_extension": ".py",
   "mimetype": "text/x-python",
   "name": "python",
   "nbconvert_exporter": "python",
   "pygments_lexer": "ipython3",
   "version": "3.11.6"
  }
 },
 "nbformat": 4,
 "nbformat_minor": 5
}
