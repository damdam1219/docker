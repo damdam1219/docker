{
 "cells": [
  {
   "cell_type": "code",
   "execution_count": 1,
   "id": "ecc83f12-27c5-4830-aec2-e4cb21d7d574",
   "metadata": {},
   "outputs": [],
   "source": [
    "from pyspark.sql import SparkSession\n",
    "spark = SparkSession.builder.appName('pyspark example1').getOrCreate()"
   ]
  },
  {
   "cell_type": "code",
   "execution_count": 8,
   "id": "946ebfd3-df2b-41c7-8f90-b63b74278b8c",
   "metadata": {},
   "outputs": [],
   "source": [
    "spark.stop()"
   ]
  },
  {
   "cell_type": "markdown",
   "id": "c442ebc7-07c2-454b-9880-5d5361f999ad",
   "metadata": {},
   "source": [
    "# RDD에서 다룰 수 있는 데이터 타입(TypeSafe)"
   ]
  },
  {
   "cell_type": "markdown",
   "id": "e2b5f532-ed80-4993-8671-e9bdf9d0eff1",
   "metadata": {},
   "source": [
    "1. 비정형 데이터: ...jSON...\n",
    "2. 정형 데이터:  List, csv, table\n"
   ]
  },
  {
   "cell_type": "code",
   "execution_count": 2,
   "id": "9c2f8b3e-12d4-4111-bbe6-e7b60266b84b",
   "metadata": {},
   "outputs": [],
   "source": [
    "rdd_1 = spark.sparkContext.textFile('learing_spark_data/lod.txt')"
   ]
  },
  {
   "cell_type": "code",
   "execution_count": 5,
   "id": "ed69431f-06e8-4a43-b0ee-1a1fa5c7353d",
   "metadata": {},
   "outputs": [],
   "source": [
    "import json\n",
    "rdd2 = spark.sparkContext.textFile('learing_spark_data/data.json').map(json.loads)"
   ]
  },
  {
   "cell_type": "code",
   "execution_count": null,
   "id": "09a58b40-78e0-4a6c-97e1-8543a08da106",
   "metadata": {},
   "outputs": [],
   "source": [
    "1. RDD생성: type지정 하지 않기\n",
    "2. 형식변환: map()\n",
    "3. take(n)\n",
    "\n",
    "스파크컨텍스트 객체\n",
    "1. SparkSesstion.getOrCreate: 세션객체로 부터 사전에 설정된 변수에 맞춰 컨텍스트를 생성\n",
    "2. Spark"
   ]
  },
  {
   "cell_type": "code",
   "execution_count": 7,
   "id": "e1bd0012-24b4-4174-bc64-db32760f6561",
   "metadata": {},
   "outputs": [
    {
     "data": {
      "text/plain": [
       "<pyspark.conf.SparkConf at 0x7f10e057fa90>"
      ]
     },
     "execution_count": 7,
     "metadata": {},
     "output_type": "execute_result"
    }
   ],
   "source": [
    "from pyspark import SparkConf, SparkContext\n",
    "\n",
    "conf = SparkConf().setMaster('local').setAppName('country-stdent-counts2')\n",
    "conf\n"
   ]
  },
  {
   "cell_type": "code",
   "execution_count": 9,
   "id": "271cdba4-6296-42cb-bde0-ed2eadd3da32",
   "metadata": {},
   "outputs": [],
   "source": [
    "spark = SparkContext(conf = conf).getOrCreate()"
   ]
  },
  {
   "cell_type": "code",
   "execution_count": 10,
   "id": "c5c649e2-8b2e-421d-bcf2-bdb1870c91e8",
   "metadata": {},
   "outputs": [
    {
     "data": {
      "text/plain": [
       "[('spark.master', 'local'),\n",
       " ('spark.driver.host', '6c8dcd110e07'),\n",
       " ('spark.app.name', 'country-stdent-counts2'),\n",
       " ('spark.executor.id', 'driver'),\n",
       " ('spark.driver.extraJavaOptions',\n",
       "  '-Djava.net.preferIPv6Addresses=false -XX:+IgnoreUnrecognizedVMOptions --add-opens=java.base/java.lang=ALL-UNNAMED --add-opens=java.base/java.lang.invoke=ALL-UNNAMED --add-opens=java.base/java.lang.reflect=ALL-UNNAMED --add-opens=java.base/java.io=ALL-UNNAMED --add-opens=java.base/java.net=ALL-UNNAMED --add-opens=java.base/java.nio=ALL-UNNAMED --add-opens=java.base/java.util=ALL-UNNAMED --add-opens=java.base/java.util.concurrent=ALL-UNNAMED --add-opens=java.base/java.util.concurrent.atomic=ALL-UNNAMED --add-opens=java.base/sun.nio.ch=ALL-UNNAMED --add-opens=java.base/sun.nio.cs=ALL-UNNAMED --add-opens=java.base/sun.security.action=ALL-UNNAMED --add-opens=java.base/sun.util.calendar=ALL-UNNAMED --add-opens=java.security.jgss/sun.security.krb5=ALL-UNNAMED -Djdk.reflect.useDirectMethodHandle=false'),\n",
       " ('spark.rdd.compress', 'True'),\n",
       " ('spark.app.submitTime', '1754024962224'),\n",
       " ('spark.serializer.objectStreamReset', '100'),\n",
       " ('spark.submit.pyFiles', ''),\n",
       " ('spark.app.startTime', '1754026366370'),\n",
       " ('spark.submit.deployMode', 'client'),\n",
       " ('spark.driver.port', '33747'),\n",
       " ('spark.app.id', 'local-1754026366409'),\n",
       " ('spark.ui.showConsoleProgress', 'true'),\n",
       " ('spark.executor.extraJavaOptions',\n",
       "  '-Djava.net.preferIPv6Addresses=false -XX:+IgnoreUnrecognizedVMOptions --add-opens=java.base/java.lang=ALL-UNNAMED --add-opens=java.base/java.lang.invoke=ALL-UNNAMED --add-opens=java.base/java.lang.reflect=ALL-UNNAMED --add-opens=java.base/java.io=ALL-UNNAMED --add-opens=java.base/java.net=ALL-UNNAMED --add-opens=java.base/java.nio=ALL-UNNAMED --add-opens=java.base/java.util=ALL-UNNAMED --add-opens=java.base/java.util.concurrent=ALL-UNNAMED --add-opens=java.base/java.util.concurrent.atomic=ALL-UNNAMED --add-opens=java.base/sun.nio.ch=ALL-UNNAMED --add-opens=java.base/sun.nio.cs=ALL-UNNAMED --add-opens=java.base/sun.security.action=ALL-UNNAMED --add-opens=java.base/sun.util.calendar=ALL-UNNAMED --add-opens=java.security.jgss/sun.security.krb5=ALL-UNNAMED -Djdk.reflect.useDirectMethodHandle=false')]"
      ]
     },
     "execution_count": 10,
     "metadata": {},
     "output_type": "execute_result"
    }
   ],
   "source": [
    "spark.getConf().getAll()"
   ]
  },
  {
   "cell_type": "code",
   "execution_count": 11,
   "id": "cb96f3b0-bf72-40dc-99e0-051ca3b3a78a",
   "metadata": {},
   "outputs": [],
   "source": [
    "spark.stop()"
   ]
  },
  {
   "cell_type": "code",
   "execution_count": 12,
   "id": "40b54c2d-c925-4488-aae3-0c27e72a5a1f",
   "metadata": {},
   "outputs": [
    {
     "data": {
      "text/plain": [
       "'/home/jovyan/work'"
      ]
     },
     "execution_count": 12,
     "metadata": {},
     "output_type": "execute_result"
    }
   ],
   "source": [
    "import os\n",
    "os.getcwd() # 컨테이너 내부 경로"
   ]
  },
  {
   "cell_type": "code",
   "execution_count": 13,
   "id": "3f93a874-e23b-4c39-94e9-59a76e733ba5",
   "metadata": {},
   "outputs": [
    {
     "data": {
      "text/plain": [
       "'/home/jovyan/work/learning_spark_data'"
      ]
     },
     "execution_count": 13,
     "metadata": {},
     "output_type": "execute_result"
    }
   ],
   "source": [
    "dir = os.path.join(os.getcwd(), 'learning_spark_data')\n",
    "dir"
   ]
  },
  {
   "cell_type": "code",
   "execution_count": 14,
   "id": "6b15df35-d86e-4fb2-ad94-be53562852e3",
   "metadata": {},
   "outputs": [
    {
     "data": {
      "text/plain": [
       "'/home/jovyan/work/learning_spark_data/xAPI-Edu-Data.csv'"
      ]
     },
     "execution_count": 14,
     "metadata": {},
     "output_type": "execute_result"
    }
   ],
   "source": [
    "filename  = 'xAPI-Edu-Data.csv'\n",
    "filepath = os.path.join(dir, filename)\n",
    "filepath"
   ]
  },
  {
   "cell_type": "code",
   "execution_count": 15,
   "id": "739cb3e6-8bfb-4adf-884b-86c7e8cb7faa",
   "metadata": {},
   "outputs": [],
   "source": [
    "spark = SparkContext(conf = conf).getOrCreate()"
   ]
  },
  {
   "cell_type": "code",
   "execution_count": 16,
   "id": "658ab798-d572-4ade-8e51-476b34bd4200",
   "metadata": {},
   "outputs": [
    {
     "data": {
      "text/plain": [
       "file:////home/jovyan/work/learning_spark_data/xAPI-Edu-Data.csv MapPartitionsRDD[1] at textFile at NativeMethodAccessorImpl.java:0"
      ]
     },
     "execution_count": 16,
     "metadata": {},
     "output_type": "execute_result"
    }
   ],
   "source": [
    "lines = spark.textFile('file:///'+filepath.replace('\\\\', '/'))\n",
    "lines"
   ]
  },
  {
   "cell_type": "code",
   "execution_count": 17,
   "id": "7510d48c-e243-48d8-a5fd-d018ec749738",
   "metadata": {},
   "outputs": [],
   "source": [
    "header = lines.first()"
   ]
  },
  {
   "cell_type": "code",
   "execution_count": 18,
   "id": "61d1b5e7-1c79-4814-9c4c-b7e3cfe84e01",
   "metadata": {},
   "outputs": [
    {
     "data": {
      "text/plain": [
       "['M,KW,KuwaIT,lowerlevel,G-04,A,IT,F,Father,15,16,2,20,Yes,Good,Under-7,M',\n",
       " 'M,KW,KuwaIT,lowerlevel,G-04,A,IT,F,Father,20,20,3,25,Yes,Good,Under-7,M',\n",
       " 'M,KW,KuwaIT,lowerlevel,G-04,A,IT,F,Father,10,7,0,30,No,Bad,Above-7,L']"
      ]
     },
     "execution_count": 18,
     "metadata": {},
     "output_type": "execute_result"
    }
   ],
   "source": [
    "datas = lines.filter(lambda row : row != header)\n",
    "datas.take(3)"
   ]
  },
  {
   "cell_type": "code",
   "execution_count": null,
   "id": "454699be-5496-4fea-8875-c8dd9de3edf9",
   "metadata": {},
   "outputs": [],
   "source": []
  }
 ],
 "metadata": {
  "kernelspec": {
   "display_name": "Python 3 (ipykernel)",
   "language": "python",
   "name": "python3"
  },
  "language_info": {
   "codemirror_mode": {
    "name": "ipython",
    "version": 3
   },
   "file_extension": ".py",
   "mimetype": "text/x-python",
   "name": "python",
   "nbconvert_exporter": "python",
   "pygments_lexer": "ipython3",
   "version": "3.11.6"
  }
 },
 "nbformat": 4,
 "nbformat_minor": 5
}
