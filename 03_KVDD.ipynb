{
 "cells": [
  {
   "cell_type": "code",
   "execution_count": 1,
   "id": "c4496eb2-02be-4cd9-8ce3-931ef57eb9e0",
   "metadata": {},
   "outputs": [],
   "source": [
    "from pyspark.sql import SparkSession\n",
    "\n",
    "spark = SparkSession.builder \\\n",
    "    .appName(\"restaurant-review-average\") \\\n",
    "    .master(\"local[*]\") \\\n",
    "    .getOrCreate()"
   ]
  },
  {
   "cell_type": "code",
   "execution_count": 2,
   "id": "302d5916-4610-4c9f-b772-5b853d6f375f",
   "metadata": {},
   "outputs": [],
   "source": [
    "sc = spark.sparkContext"
   ]
  },
  {
   "cell_type": "code",
   "execution_count": 3,
   "id": "5f7302bd-596f-40c4-b33d-95da7354dd7e",
   "metadata": {},
   "outputs": [],
   "source": [
    "data = [\n",
    "    (0, \"짜장면\", \"중식\", 125),\n",
    "    (1, \"짬뽕\", \"중식\", 235),\n",
    "    (2, \"김밥\", \"분식\", 32),\n",
    "    (3, \"떡볶이\", \"분식\", 534),\n",
    "    (4, \"라멘\", \"일식\", 223),\n",
    "    (5, \"돈가스\", \"일식\", 52),\n",
    "    (6, \"우동\", \"일식\", 12),\n",
    "    (7, \"쌀국수\", \"아시안\", 312),\n",
    "    (8, \"햄버거\", \"패스트푸드\", 12),\n",
    "    (9, \"치킨\", \"패스트푸드\", 23),\n",
    "]"
   ]
  },
  {
   "cell_type": "code",
   "execution_count": 4,
   "id": "9deff697-162b-4bbc-a47b-c6cc314cc739",
   "metadata": {},
   "outputs": [],
   "source": [
    "rdd1 = sc.parallelize(data)"
   ]
  },
  {
   "cell_type": "code",
   "execution_count": 5,
   "id": "6a230543-a258-4ace-9360-a5a40cdec908",
   "metadata": {},
   "outputs": [
    {
     "data": {
      "text/plain": [
       "['id,item,cateogry,reviews,',\n",
       " '0,짜장면,중식,125,',\n",
       " '1,짬뽕,중식,235,',\n",
       " '2,김밥,분식,32,',\n",
       " '3,떡볶이,분식,534,']"
      ]
     },
     "execution_count": 5,
     "metadata": {},
     "output_type": "execute_result"
    }
   ],
   "source": [
    "lines = sc.textFile(\"file:///home/jovyan/work/learning_spark_data/restaurant_reviews.csv\")\n",
    "\n",
    "lines.take(5)"
   ]
  },
  {
   "cell_type": "code",
   "execution_count": 6,
   "id": "e9523b29-7bcb-4c61-9e2f-ee519298246d",
   "metadata": {},
   "outputs": [],
   "source": [
    "\n",
    "# 총건수 확인\n",
    "# map으로 split"
   ]
  },
  {
   "cell_type": "code",
   "execution_count": 7,
   "id": "1e381ba0-5f34-4713-95ed-bd4c1baaeccb",
   "metadata": {},
   "outputs": [],
   "source": [
    "def parse(row):\n",
    "    fields = row.split(\",\")\n",
    "    \n",
    "    category = fields[2] #카테고리\n",
    "    \n",
    "    # reviews는 정수로 parse\n",
    "    reviews = fields[3] # 리뷰수\n",
    "    reviews = int(reviews)\n",
    "    \n",
    "    return category, reviews"
   ]
  },
  {
   "cell_type": "code",
   "execution_count": 8,
   "id": "15b4d15f-6d82-4827-b687-04e4f77ac035",
   "metadata": {},
   "outputs": [
    {
     "data": {
      "text/plain": [
       "('중식', 125)"
      ]
     },
     "execution_count": 8,
     "metadata": {},
     "output_type": "execute_result"
    }
   ],
   "source": [
    "parse('0,짜장면,중식,125,')"
   ]
  },
  {
   "cell_type": "code",
   "execution_count": 9,
   "id": "be92f9ff-fa69-45ba-a1b0-4004aba5b51d",
   "metadata": {},
   "outputs": [],
   "source": [
    "# 첫줄, 데이터분할\n",
    "header = lines.first()\n",
    "filtered_lines = lines.filter(lambda row : row!=header)"
   ]
  },
  {
   "cell_type": "code",
   "execution_count": 10,
   "id": "e6033773-bf74-4731-aecd-398a76ae07da",
   "metadata": {},
   "outputs": [
    {
     "data": {
      "text/plain": [
       "PythonRDD[5] at RDD at PythonRDD.scala:53"
      ]
     },
     "execution_count": 10,
     "metadata": {},
     "output_type": "execute_result"
    }
   ],
   "source": [
    "category_reviews = filtered_lines.map(parse)\n",
    "category_reviews"
   ]
  },
  {
   "cell_type": "code",
   "execution_count": 11,
   "id": "c3eb1e6a-e693-405a-9d36-583b533848c0",
   "metadata": {},
   "outputs": [
    {
     "data": {
      "text/plain": [
       "[('중식', 125),\n",
       " ('중식', 235),\n",
       " ('분식', 32),\n",
       " ('분식', 534),\n",
       " ('일식', 223),\n",
       " ('일식', 52),\n",
       " ('일식', 12),\n",
       " ('아시안', 312),\n",
       " ('패스트푸드', 12),\n",
       " ('패스트푸드', 23)]"
      ]
     },
     "execution_count": 11,
     "metadata": {},
     "output_type": "execute_result"
    }
   ],
   "source": [
    "category_reviews.collect()"
   ]
  },
  {
   "cell_type": "code",
   "execution_count": 12,
   "id": "f5c24e61-be48-4f58-b785-6bc52bf27017",
   "metadata": {},
   "outputs": [
    {
     "data": {
      "text/plain": [
       "[('중식', (125, 1)),\n",
       " ('중식', (235, 1)),\n",
       " ('분식', (32, 1)),\n",
       " ('분식', (534, 1)),\n",
       " ('일식', (223, 1)),\n",
       " ('일식', (52, 1)),\n",
       " ('일식', (12, 1)),\n",
       " ('아시안', (312, 1)),\n",
       " ('패스트푸드', (12, 1)),\n",
       " ('패스트푸드', (23, 1))]"
      ]
     },
     "execution_count": 12,
     "metadata": {},
     "output_type": "execute_result"
    }
   ],
   "source": [
    "category_review_count = category_reviews.mapValues(lambda x : (x, 1)) # x는 review 개수\n",
    "category_review_count.collect()"
   ]
  },
  {
   "cell_type": "code",
   "execution_count": 13,
   "id": "f37a7c3d-5d2f-4212-badf-29ec712db049",
   "metadata": {},
   "outputs": [
    {
     "data": {
      "text/plain": [
       "[('중식', (360, 2)),\n",
       " ('분식', (566, 2)),\n",
       " ('일식', (287, 3)),\n",
       " ('아시안', (312, 1)),\n",
       " ('패스트푸드', (35, 2))]"
      ]
     },
     "execution_count": 13,
     "metadata": {},
     "output_type": "execute_result"
    }
   ],
   "source": [
    "#같은 key(카테고리)끼리 x와 y의 (리뷰 수 합계, 개수 합계)를 누적\n",
    "#첫번째 중식 x, 두번째 중식 y , [0] 은 리뷰수, [1] 은 개수 -> 같은 키끼리 행을 바꿔가며 계속 누적해 나간다.\n",
    "reduced = category_review_count.reduceByKey(lambda x, y : (x[0] + y[0], x[1] + y[1]))\n",
    "reduced.collect()"
   ]
  },
  {
   "cell_type": "code",
   "execution_count": 14,
   "id": "4f44e314-d61d-43ec-a5fd-16732349570c",
   "metadata": {},
   "outputs": [
    {
     "data": {
      "text/plain": [
       "[('중식', 180.0),\n",
       " ('분식', 283.0),\n",
       " ('일식', 95.66666666666667),\n",
       " ('아시안', 312.0),\n",
       " ('패스트푸드', 17.5)]"
      ]
     },
     "execution_count": 14,
     "metadata": {},
     "output_type": "execute_result"
    }
   ],
   "source": [
    "average = reduced.mapValues(lambda x : x[0] / x[1])\n",
    "average.collect()"
   ]
  },
  {
   "cell_type": "markdown",
   "id": "f5874027-60c1-48b9-b24c-76d45080b987",
   "metadata": {},
   "source": [
    "map(key,value) -> key, value 전체에 적용\n",
    "\n",
    "mapValues(key, value) -> value에만 적용"
   ]
  },
  {
   "cell_type": "code",
   "execution_count": 15,
   "id": "8201edce-eb3f-4cac-8fe3-ba2dba1ed753",
   "metadata": {},
   "outputs": [
    {
     "data": {
      "text/plain": [
       "PythonRDD[13] at RDD at PythonRDD.scala:53"
      ]
     },
     "execution_count": 15,
     "metadata": {},
     "output_type": "execute_result"
    }
   ],
   "source": [
    "# persist를 사용하는 경우\n",
    "#job x\n",
    "categoryReviews = filtered_lines.map(parse).persist() # categoryReviews RDD는 하나만 존재하는 RDD\n",
    "categoryReviews"
   ]
  },
  {
   "cell_type": "code",
   "execution_count": 16,
   "id": "5b1b93d8-0edf-4419-a295-a897f69f193f",
   "metadata": {},
   "outputs": [
    {
     "data": {
      "text/plain": [
       "[('중식', 125),\n",
       " ('중식', 235),\n",
       " ('분식', 32),\n",
       " ('분식', 534),\n",
       " ('일식', 223),\n",
       " ('일식', 52),\n",
       " ('일식', 12),\n",
       " ('아시안', 312),\n",
       " ('패스트푸드', 12),\n",
       " ('패스트푸드', 23)]"
      ]
     },
     "execution_count": 16,
     "metadata": {},
     "output_type": "execute_result"
    }
   ],
   "source": [
    "result3 = categoryReviews.take(10)\n",
    "result3"
   ]
  },
  {
   "cell_type": "code",
   "execution_count": 17,
   "id": "0d7ed3e2-a69c-4bae-84b6-02ffd69a9dda",
   "metadata": {},
   "outputs": [
    {
     "data": {
      "text/plain": [
       "[('중식', (125, 1)),\n",
       " ('중식', (235, 1)),\n",
       " ('분식', (32, 1)),\n",
       " ('분식', (534, 1)),\n",
       " ('일식', (223, 1)),\n",
       " ('일식', (52, 1)),\n",
       " ('일식', (12, 1)),\n",
       " ('아시안', (312, 1)),\n",
       " ('패스트푸드', (12, 1)),\n",
       " ('패스트푸드', (23, 1))]"
      ]
     },
     "execution_count": 17,
     "metadata": {},
     "output_type": "execute_result"
    }
   ],
   "source": [
    "result4 = categoryReviews.mapValues(lambda x : (x, 1)).collect()\n",
    "result4"
   ]
  },
  {
   "cell_type": "code",
   "execution_count": 18,
   "id": "a607231d-c761-459d-a52e-8c5e248c64a8",
   "metadata": {},
   "outputs": [
    {
     "data": {
      "text/plain": [
       "[('중식', 360), ('분식', 566), ('일식', 287), ('아시안', 312), ('패스트푸드', 35)]"
      ]
     },
     "execution_count": 18,
     "metadata": {},
     "output_type": "execute_result"
    }
   ],
   "source": [
    "# 카테고리별 값1 합계 계산 (첫 번째 연산)\n",
    "result_sum = categoryReviews \\\n",
    "    .reduceByKey(lambda a, b: a + b) \\\n",
    "    .collect()\n",
    "result_sum"
   ]
  },
  {
   "cell_type": "code",
   "execution_count": 19,
   "id": "0f6e72f1-6de4-470d-b711-9327f0024547",
   "metadata": {},
   "outputs": [
    {
     "data": {
      "text/plain": [
       "[('중식', (125, 1)), ('중식', (235, 1)), ('분식', (32, 1))]"
      ]
     },
     "execution_count": 19,
     "metadata": {},
     "output_type": "execute_result"
    }
   ],
   "source": [
    "# (카테고리, (점수, 1)) 형태로 변환\n",
    "rdd_with_count = categoryReviews.map(lambda x: (x[0], (x[1], 1)))\n",
    "rdd_with_count.take(3)"
   ]
  },
  {
   "cell_type": "code",
   "execution_count": 20,
   "id": "f0bd36ce-0f0a-47e0-b177-c97f4395131a",
   "metadata": {},
   "outputs": [
    {
     "data": {
      "text/plain": [
       "[('중식', (360, 2)), ('분식', (566, 2)), ('일식', (287, 3))]"
      ]
     },
     "execution_count": 20,
     "metadata": {},
     "output_type": "execute_result"
    }
   ],
   "source": [
    "# reduceByKey로 (점수 총합, 개수 총합) 집계\n",
    "rdd_sums = rdd_with_count.reduceByKey(lambda a, b: (a[0] + b[0], a[1] + b[1]))\n",
    "rdd_sums.take(3)"
   ]
  },
  {
   "cell_type": "code",
   "execution_count": 21,
   "id": "2a90e5c9-bce9-42cf-b55b-d5846397dac1",
   "metadata": {},
   "outputs": [
    {
     "data": {
      "text/plain": [
       "[('중식', 180.0), ('분식', 283.0), ('일식', 95.67), ('아시안', 312.0), ('패스트푸드', 17.5)]"
      ]
     },
     "execution_count": 21,
     "metadata": {},
     "output_type": "execute_result"
    }
   ],
   "source": [
    "# 평균 계산\n",
    "rdd_avg = rdd_sums.mapValues(lambda x: round(x[0] / x[1], 2))\n",
    "\n",
    "# 결과 출력\n",
    "rdd_avg.collect()"
   ]
  },
  {
   "cell_type": "code",
   "execution_count": 22,
   "id": "bd45cf58-5263-4b0e-96c6-ca53ccc19d02",
   "metadata": {},
   "outputs": [
    {
     "data": {
      "text/plain": [
       "PythonRDD[13] at RDD at PythonRDD.scala:53"
      ]
     },
     "execution_count": 22,
     "metadata": {},
     "output_type": "execute_result"
    }
   ],
   "source": [
    "# 기존 저장 레벨 해제\n",
    "categoryReviews.unpersist()"
   ]
  },
  {
   "cell_type": "code",
   "execution_count": 23,
   "id": "6042e072-c853-4e1f-ab6b-02aed6ae0ca9",
   "metadata": {},
   "outputs": [
    {
     "data": {
      "text/plain": [
       "PythonRDD[13] at RDD at PythonRDD.scala:53"
      ]
     },
     "execution_count": 23,
     "metadata": {},
     "output_type": "execute_result"
    }
   ],
   "source": [
    "from pyspark import StorageLevel\n",
    "categoryReviews.persist(StorageLevel.MEMORY_AND_DISK)"
   ]
  },
  {
   "cell_type": "code",
   "execution_count": 24,
   "id": "b03f9b03-3f19-4c83-8039-e639b9492830",
   "metadata": {},
   "outputs": [
    {
     "data": {
      "text/plain": [
       "[('중식', 125), ('중식', 235), ('분식', 32)]"
      ]
     },
     "execution_count": 24,
     "metadata": {},
     "output_type": "execute_result"
    }
   ],
   "source": [
    "# 구조 확인하기\n",
    "categoryReviews.take(3)"
   ]
  },
  {
   "cell_type": "code",
   "execution_count": 25,
   "id": "8370fadf-6671-4338-aa77-c83b23c5f925",
   "metadata": {},
   "outputs": [],
   "source": [
    "result11 = categoryReviews.filter(lambda x: x[1] > 100).count()\n",
    "result12 = categoryReviews.filter(lambda x: x[1] <= 100).count()"
   ]
  },
  {
   "cell_type": "markdown",
   "id": "faec94ba-c0fd-458d-9a79-8d3d297f05c8",
   "metadata": {},
   "source": [
    "# Narrow Transformation \n",
    "\n",
    "1:1 변환 -> 하나의 열을 다룰 때 다른 데이터가 필요없는 경우\n",
    "\n",
    "Narrow:   [P1] ──▶ [P1']     (한 파티션 → 한 파티션)\n",
    "\r\n",
    "Wide:     [P1] ──▶ [P1'] + [P2']  (데이터 재분배)\r\n",
    "\n",
    "\n",
    "filer(), map(), flatmap(), unino(), sample()"
   ]
  },
  {
   "cell_type": "markdown",
   "id": "3a0cdfde-646b-4437-a887-84b3fa25ac33",
   "metadata": {},
   "source": [
    "# flatMap()"
   ]
  },
  {
   "cell_type": "markdown",
   "id": "cab22f64-38cf-4794-81dc-09285b7c14b4",
   "metadata": {},
   "source": [
    "1️⃣ map: 요소 하나 → 결과 하나\n",
    "\n",
    "2️⃣ flatMap: 요소 하나 → 결과 여러 개 → 다 펼쳐서(flat) 하나의 RDD로 만듦"
   ]
  },
  {
   "cell_type": "code",
   "execution_count": 26,
   "id": "95cb9665-4cdf-41c1-b560-de95cc01b160",
   "metadata": {},
   "outputs": [
    {
     "data": {
      "text/plain": [
       "[[1, 2], [2, 3], [3, 4]]"
      ]
     },
     "execution_count": 26,
     "metadata": {},
     "output_type": "execute_result"
    }
   ],
   "source": [
    "rdd = sc.parallelize([1, 2, 3])\n",
    "rdd_map = rdd.map(lambda x: [x, x + 1])  # => [[1, 2], [2, 3], [3, 4]]\n",
    "rdd_map.collect()"
   ]
  },
  {
   "cell_type": "code",
   "execution_count": 27,
   "id": "33b355b1-9a6d-4c37-ad26-2382acbda1f6",
   "metadata": {},
   "outputs": [
    {
     "data": {
      "text/plain": [
       "[1, 2, 2, 3, 3, 4]"
      ]
     },
     "execution_count": 27,
     "metadata": {},
     "output_type": "execute_result"
    }
   ],
   "source": [
    "rdd_flatmap = rdd.flatMap(lambda x: [x, x + 1])  # => [1, 2, 2, 3, 3, 4]\n",
    "rdd_flatmap.collect()"
   ]
  },
  {
   "cell_type": "code",
   "execution_count": 28,
   "id": "a2da6be0-12ad-4044-87b0-cea883c25432",
   "metadata": {},
   "outputs": [],
   "source": [
    "# 텍스트를 단어로 쪼개서 flatMap()\n",
    "movies = [\n",
    "    \"그린 북\",\n",
    "    \"매트릭스\",\n",
    "    \"토이 스토리\",\n",
    "    \"캐스트 어웨이\",\n",
    "    \"포드 V 페라리\",\n",
    "    \"보헤미안 랩소디\",\n",
    "    \"빽 투 더 퓨처\",\n",
    "    \"반지의 제왕\",\n",
    "    \"죽은 시인의 사회\"\n",
    "]"
   ]
  },
  {
   "cell_type": "code",
   "execution_count": 29,
   "id": "fa9760c8-b589-4635-9d5a-6dcf110a5f86",
   "metadata": {},
   "outputs": [
    {
     "data": {
      "text/plain": [
       "ParallelCollectionRDD[36] at readRDDFromFile at PythonRDD.scala:289"
      ]
     },
     "execution_count": 29,
     "metadata": {},
     "output_type": "execute_result"
    }
   ],
   "source": [
    "moviesRDD = sc.parallelize(movies)\n",
    "moviesRDD"
   ]
  },
  {
   "cell_type": "code",
   "execution_count": 30,
   "id": "e5a5cd23-4867-4d5f-a5cc-1776d47dbf31",
   "metadata": {},
   "outputs": [
    {
     "data": {
      "text/plain": [
       "['그린',\n",
       " '북',\n",
       " '매트릭스',\n",
       " '토이',\n",
       " '스토리',\n",
       " '캐스트',\n",
       " '어웨이',\n",
       " '포드',\n",
       " 'V',\n",
       " '페라리',\n",
       " '보헤미안',\n",
       " '랩소디',\n",
       " '빽',\n",
       " '투',\n",
       " '더',\n",
       " '퓨처',\n",
       " '반지의',\n",
       " '제왕',\n",
       " '죽은',\n",
       " '시인의',\n",
       " '사회']"
      ]
     },
     "execution_count": 30,
     "metadata": {},
     "output_type": "execute_result"
    }
   ],
   "source": [
    "#job 추가 x\n",
    "flatMovies = moviesRDD.flatMap(lambda x : x.split(\" \"))\n",
    "flatMovies.collect()"
   ]
  },
  {
   "cell_type": "code",
   "execution_count": 31,
   "id": "fd5ca219-c844-4337-930a-791ae65ca5e6",
   "metadata": {},
   "outputs": [
    {
     "data": {
      "text/plain": [
       "[4, 5]"
      ]
     },
     "execution_count": 31,
     "metadata": {},
     "output_type": "execute_result"
    }
   ],
   "source": [
    "# 집합 Transformation\n",
    "\n",
    "num1 = sc.parallelize([1, 2, 3, 4, 5])\n",
    "num2 = sc.parallelize([4, 5, 6, 7, 8, 9, 10])\n",
    "\n",
    "num1.intersection(num2).collect()"
   ]
  },
  {
   "cell_type": "code",
   "execution_count": 32,
   "id": "94934281-e075-4e91-99b7-747c3fa97c5b",
   "metadata": {},
   "outputs": [
    {
     "data": {
      "text/plain": [
       "[1, 2, 3, 4, 5, 4, 5, 6, 7, 8, 9, 10]"
      ]
     },
     "execution_count": 32,
     "metadata": {},
     "output_type": "execute_result"
    }
   ],
   "source": [
    "# 합집합 구하기 - union\n",
    "\n",
    "num_union = num1.union(num2)\n",
    "num_union\n",
    "\n",
    "num_union.collect()"
   ]
  },
  {
   "cell_type": "code",
   "execution_count": 33,
   "id": "30eb8d4e-54ac-4d66-bde9-8d2b02e30a6b",
   "metadata": {},
   "outputs": [
    {
     "data": {
      "text/plain": [
       "[1, 2, 3]"
      ]
     },
     "execution_count": 33,
     "metadata": {},
     "output_type": "execute_result"
    }
   ],
   "source": [
    "# 차집합 구하기 - subtract\n",
    "\n",
    "num1.subtract(num2).collect()"
   ]
  },
  {
   "cell_type": "code",
   "execution_count": 34,
   "id": "dacba75e-c535-4f0d-8482-3b55f0666370",
   "metadata": {},
   "outputs": [
    {
     "data": {
      "text/plain": [
       "[4, 5, 5, 5, 7]"
      ]
     },
     "execution_count": 34,
     "metadata": {},
     "output_type": "execute_result"
    }
   ],
   "source": [
    "# 데이터 랜덤 추출 - sample(withReplacement, fraction, seed=None)\n",
    "\n",
    "# withReplacement : True -> 중복 추출\n",
    "num_union.sample(True, 0.3).collect()\n",
    "\n",
    "# withReplacement : False -> 중복 X\n",
    "num_union.sample(False, 0.7).collect()\n",
    "\n",
    "# 랜덤을 고정해서 항상 같은 결과가 나올 수 있도록\n",
    "num_union.sample(True, 0.5, seed=42).collect()"
   ]
  },
  {
   "cell_type": "markdown",
   "id": "66c12e35-f54c-48d9-b062-2e667874726e",
   "metadata": {},
   "source": [
    "# Wide Transformations"
   ]
  },
  {
   "cell_type": "code",
   "execution_count": 35,
   "id": "c5c3b9b3-2c1b-468a-8cab-9175dd849430",
   "metadata": {},
   "outputs": [
    {
     "data": {
      "text/plain": [
       "ParallelCollectionRDD[62] at readRDDFromFile at PythonRDD.scala:289"
      ]
     },
     "execution_count": 35,
     "metadata": {},
     "output_type": "execute_result"
    }
   ],
   "source": [
    "foods = sc.parallelize([\n",
    "    \"짜장면\", \"마라탕\", \"짬뽕\", \"떡볶이\", \"쌀국수\", \"짬뽕\", \"짜장면\", \"짜장면\", \"짜장면\", \"라면\", \"우동\", \"라면\"\n",
    "])\n",
    "foods"
   ]
  },
  {
   "cell_type": "code",
   "execution_count": 36,
   "id": "c92f091f-d7d8-4839-ac9b-30e9158074f1",
   "metadata": {},
   "outputs": [
    {
     "data": {
      "text/plain": [
       "PythonRDD[67] at RDD at PythonRDD.scala:53"
      ]
     },
     "execution_count": 36,
     "metadata": {},
     "output_type": "execute_result"
    }
   ],
   "source": [
    "# 그룹핑의 기준을 문자열의 첫 번째 글자로 설정\n",
    "foodsGroup = foods.groupBy(lambda x : x[0]) # 첫번째 글자가지고 groupby\n",
    "foodsGroup"
   ]
  },
  {
   "cell_type": "markdown",
   "id": "659720b4-3fbe-4d46-b7d0-b5d157e79df6",
   "metadata": {},
   "source": [
    "## join"
   ]
  },
  {
   "cell_type": "code",
   "execution_count": 39,
   "id": "59c3d6e3-d44e-44c5-9ea7-f6430c8064a1",
   "metadata": {},
   "outputs": [
    {
     "name": "stdout",
     "output_type": "stream",
     "text": [
      "[('apple', (2, 'fruit')), ('banana', (1, 'fruit'))]\n"
     ]
    }
   ],
   "source": [
    "# 두 RDD 조인하기\n",
    "rdd1 = sc.parallelize([(\"apple\", 2), (\"banana\", 1)])\n",
    "rdd2 = sc.parallelize([(\"apple\", \"fruit\"), (\"banana\", \"fruit\"), (\"carrot\", \"vegetable\")])\n",
    "\n",
    "# 두 RDD 조인\n",
    "joined_rdd = rdd1.join(rdd2)\n",
    "print(joined_rdd.collect())"
   ]
  },
  {
   "cell_type": "code",
   "execution_count": 41,
   "id": "62e41955-eda1-4f2d-a34e-a0449d076965",
   "metadata": {},
   "outputs": [
    {
     "name": "stdout",
     "output_type": "stream",
     "text": [
      "[('apple', (2, 'fruit')), ('banana', (1, 'fruit'))]\n",
      "[('apple', (2, 'fruit')), ('banana', (1, 'fruit')), ('carrot', (None, 'vegetable'))]\n",
      "[('banana', 1)]\n"
     ]
    }
   ],
   "source": [
    "# 왼쪽 외부 조인 (leftOuterJoin)\n",
    "left_joined = rdd1.leftOuterJoin(rdd2)\n",
    "print(left_joined.collect())\n",
    "# 출력 결과: [('apple', (2, 'fruit')), ('banana', (1, 'fruit'))]\n",
    "\n",
    "# 오른쪽 외부 조인 (rightOuterJoin)\n",
    "right_joined = rdd1.rightOuterJoin(rdd2)\n",
    "print(right_joined.collect())\n",
    "# 출력 결과: [('apple', (2, 'fruit')), ('banana', (1, 'fruit')), ('carrot', (None, 'vegetable'))]\n",
    "\n",
    "# subtractByKey 연산: 같은 kry를 기준으로 비교해서 같은 key면 모두 제거\n",
    "subtract_result = rdd1.subtractByKey(sc.parallelize([(\"apple\", \"any\")]))\n",
    "print(subtract_result.collect())\n",
    "# 출력 결과: [('banana', 1)]"
   ]
  },
  {
   "cell_type": "code",
   "execution_count": 43,
   "id": "40012bba-ca9f-4928-ab4c-03f4ddb266f9",
   "metadata": {},
   "outputs": [],
   "source": [
    "spark.stop()"
   ]
  },
  {
   "cell_type": "code",
   "execution_count": null,
   "id": "42480347-9063-4ee5-ab38-c8d8bea17518",
   "metadata": {},
   "outputs": [],
   "source": []
  }
 ],
 "metadata": {
  "kernelspec": {
   "display_name": "Python 3 (ipykernel)",
   "language": "python",
   "name": "python3"
  },
  "language_info": {
   "codemirror_mode": {
    "name": "ipython",
    "version": 3
   },
   "file_extension": ".py",
   "mimetype": "text/x-python",
   "name": "python",
   "nbconvert_exporter": "python",
   "pygments_lexer": "ipython3",
   "version": "3.11.6"
  }
 },
 "nbformat": 4,
 "nbformat_minor": 5
}
