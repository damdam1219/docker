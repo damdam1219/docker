{
 "cells": [
  {
   "cell_type": "code",
   "execution_count": 2,
   "id": "f9034117-cc3a-40f0-b647-eb279af75a13",
   "metadata": {},
   "outputs": [],
   "source": [
    "from pyspark.sql import SparkSession\n",
    "\n",
    "MAX_MEMORY = '8g'\n",
    "\n",
    "spark = SparkSession.builder.appName('taxi-fare-prediction_2nd') \\\n",
    "    .config('spark.driver.memory', MAX_MEMORY) \\\n",
    "    .config('spark.executor.memory', MAX_MEMORY) \\\n",
    "    .getOrCreate()"
   ]
  },
  {
   "cell_type": "code",
   "execution_count": 5,
   "id": "26f9c409-e9c5-4389-8f1e-5db160bbd691",
   "metadata": {},
   "outputs": [
    {
     "name": "stdout",
     "output_type": "stream",
     "text": [
      "root\n",
      " |-- VendorID: integer (nullable = true)\n",
      " |-- tpep_pickup_datetime: timestamp (nullable = true)\n",
      " |-- tpep_dropoff_datetime: timestamp (nullable = true)\n",
      " |-- passenger_count: integer (nullable = true)\n",
      " |-- trip_distance: double (nullable = true)\n",
      " |-- RatecodeID: integer (nullable = true)\n",
      " |-- store_and_fwd_flag: string (nullable = true)\n",
      " |-- PULocationID: integer (nullable = true)\n",
      " |-- DOLocationID: integer (nullable = true)\n",
      " |-- payment_type: integer (nullable = true)\n",
      " |-- fare_amount: double (nullable = true)\n",
      " |-- extra: double (nullable = true)\n",
      " |-- mta_tax: double (nullable = true)\n",
      " |-- tip_amount: double (nullable = true)\n",
      " |-- tolls_amount: double (nullable = true)\n",
      " |-- improvement_surcharge: double (nullable = true)\n",
      " |-- total_amount: double (nullable = true)\n",
      " |-- congestion_surcharge: double (nullable = true)\n",
      "\n"
     ]
    }
   ],
   "source": [
    "import os\n",
    "cwd = os.getcwd()\n",
    "trip_data_path = os.path.join(cwd, 'learning_spark_data','tips_data','trips','*.csv')\n",
    "file_path = f\"file:///{trip_data_path.replace(os.sep,'/')}\"\n",
    "trip_df = spark.read.csv(file_path, inferSchema = True, header = True)\n",
    "trip_df.printSchema()"
   ]
  },
  {
   "cell_type": "code",
   "execution_count": 8,
   "id": "70bd5033-62c0-4bba-baed-f73de63cbb41",
   "metadata": {},
   "outputs": [],
   "source": [
    "trip_df.createOrReplaceTempView('trips')"
   ]
  },
  {
   "cell_type": "code",
   "execution_count": 40,
   "id": "485edd1a-5093-4050-ad3b-32129db49596",
   "metadata": {},
   "outputs": [],
   "source": [
    "quit = \"\"\"\n",
    "SELECT \n",
    "    passenger_count,\n",
    "    PULocationID as pickup_location_id,\n",
    "    DOLocationID as dropoff_location_id,\n",
    "    trip_distance,\n",
    "    HOUR(tpep_pickup_datetime) as pickup_time,\n",
    "    DATE_FORMAT(TO_DATE(tpep_pickup_datetime), 'EEEE') AS day_of_week,\n",
    "    total_amount\n",
    "FROM\n",
    "    trips\n",
    "WHERE\n",
    "    total_amount < 5000\n",
    "    AND total_amount > 0\n",
    "    AND trip_distance > 0\n",
    "    AND trip_distance < 500\n",
    "    AND passenger_count < 4\n",
    "    AND TO_DATE(tpep_pickup_datetime) >= '2021-01-01'\n",
    "    AND TO_DATE(tpep_pickup_datetime) < '2021-08-01'\n",
    "\"\"\"\n",
    "\n",
    "data_df = spark.sql(quit)"
   ]
  },
  {
   "cell_type": "code",
   "execution_count": 41,
   "id": "d9491b35-a2b7-40e2-af73-72ac0d3f3e4d",
   "metadata": {},
   "outputs": [
    {
     "name": "stdout",
     "output_type": "stream",
     "text": [
      "+---------------+------------------+-------------------+-------------+-----------+-----------+------------+\n",
      "|passenger_count|pickup_location_id|dropoff_location_id|trip_distance|pickup_time|day_of_week|total_amount|\n",
      "+---------------+------------------+-------------------+-------------+-----------+-----------+------------+\n",
      "|              0|                 4|                  4|          0.1|         18|   Saturday|         6.3|\n",
      "|              0|                 4|                 79|          0.7|         12|    Tuesday|         8.8|\n",
      "|              0|                 4|                 79|          0.7|         23|   Saturday|       12.35|\n",
      "|              0|                 4|                 79|          0.9|         14|     Monday|         9.8|\n",
      "|              0|                 4|                114|          0.9|         18|     Friday|        10.8|\n",
      "+---------------+------------------+-------------------+-------------+-----------+-----------+------------+\n",
      "only showing top 5 rows\n",
      "\n",
      "+---------------+------------------+-------------------+-------------+-----------+-----------+------------+\n",
      "|passenger_count|pickup_location_id|dropoff_location_id|trip_distance|pickup_time|day_of_week|total_amount|\n",
      "+---------------+------------------+-------------------+-------------+-----------+-----------+------------+\n",
      "|              0|                 4|                107|          1.0|          9|    Tuesday|       10.55|\n",
      "|              0|                 4|                234|          1.7|         18|   Saturday|        13.3|\n",
      "|              0|                 4|                236|          4.1|         15|     Friday|        21.3|\n",
      "|              0|                 4|                243|         11.5|          1|     Sunday|        41.3|\n",
      "|              0|                 4|                249|          1.7|          0|   Saturday|       14.15|\n",
      "+---------------+------------------+-------------------+-------------+-----------+-----------+------------+\n",
      "only showing top 5 rows\n",
      "\n"
     ]
    },
    {
     "data": {
      "text/plain": [
       "(None, None)"
      ]
     },
     "execution_count": 41,
     "metadata": {},
     "output_type": "execute_result"
    }
   ],
   "source": [
    "# train, test split 8:2, seed = 1\n",
    "train_data, test_data = data_df.randomSplit([0.8,0.2], seed=1)\n",
    "train_data.show(5), test_data.show(5)"
   ]
  },
  {
   "cell_type": "markdown",
   "id": "57ff5ef3-768b-4640-bb74-4ff37eec7f61",
   "metadata": {},
   "source": [
    "##  파이프라인 생성e'"
   ]
  },
  {
   "cell_type": "markdown",
   "id": "6cfa5a34-4e0f-40fa-a3a6-7b25463d199c",
   "metadata": {},
   "source": [
    "- 전처리 과정을 각 스테이지로 정의해서 쌓는다\n",
    "\n",
    "- 범주형> StringIndexer+onehotencoding : 'pickup_location_id', 'dropoff_location_id', 'day_of_week'\n",
    "\n",
    "- 수치형> StandardScaler : 'passenger_count', 'trip_distance', 'pickup_time'"
   ]
  },
  {
   "cell_type": "code",
   "execution_count": 42,
   "id": "121c90c7-86c5-485f-9d4c-a9705c89b185",
   "metadata": {},
   "outputs": [],
   "source": [
    "stages = []"
   ]
  },
  {
   "cell_type": "code",
   "execution_count": 43,
   "id": "6428983d-2a2d-4bd3-96c7-9236eda6440b",
   "metadata": {},
   "outputs": [
    {
     "data": {
      "text/plain": [
       "[StringIndexer_239b1deb77f9,\n",
       " OneHotEncoder_3cd2c14e0653,\n",
       " StringIndexer_b1527da63a22,\n",
       " OneHotEncoder_80e39f031968,\n",
       " StringIndexer_7453cbcbe345,\n",
       " OneHotEncoder_b2b50fac761c]"
      ]
     },
     "execution_count": 43,
     "metadata": {},
     "output_type": "execute_result"
    }
   ],
   "source": [
    "from pyspark.ml.feature import StringIndexer, OneHotEncoder\n",
    "cat_feature = ['pickup_location_id','dropoff_location_id','day_of_week']\n",
    "for cat in cat_feature:\n",
    "    cat_index = StringIndexer(inputCol = cat, outputCol = cat+'-_idx').setHandleInvalid('keep')\n",
    "    onehot_encode = OneHotEncoder(inputCols = [cat_index.getOutputCol()], # _idx col\n",
    "                                 outputCols = [cat+'_onehot']) # postfix\n",
    "    stages += [cat_index, onehot_encode] # colllst\n",
    "stages"
   ]
  },
  {
   "cell_type": "code",
   "execution_count": 44,
   "id": "9cb72414-e272-4d31-a25b-2576bdff6c85",
   "metadata": {},
   "outputs": [
    {
     "data": {
      "text/plain": [
       "[StringIndexer_239b1deb77f9,\n",
       " OneHotEncoder_3cd2c14e0653,\n",
       " StringIndexer_b1527da63a22,\n",
       " OneHotEncoder_80e39f031968,\n",
       " StringIndexer_7453cbcbe345,\n",
       " OneHotEncoder_b2b50fac761c,\n",
       " VectorAssembler_18858a5b4b34,\n",
       " StandardScaler_55b2705a8ebd,\n",
       " VectorAssembler_a2e95555f66b,\n",
       " StandardScaler_4b68b955eee0,\n",
       " VectorAssembler_49950151b313,\n",
       " StandardScaler_d82ef85a9987]"
      ]
     },
     "execution_count": 44,
     "metadata": {},
     "output_type": "execute_result"
    }
   ],
   "source": [
    "from pyspark.ml.feature import StandardScaler, VectorAssembler\n",
    "num_feature = ['passenger_count', 'trip_distance', 'pickup_time']\n",
    "for num in num_feature:\n",
    "    num_assembler = VectorAssembler(inputCols=[num], outputCol=num + '_vector')\n",
    "    num_scaler = StandardScaler(inputCol = num_assembler.getOutputCol(), outputCol= num +'_scaled')\n",
    "    stages += [num_assembler, num_scaler]\n",
    "stages"
   ]
  },
  {
   "cell_type": "code",
   "execution_count": 45,
   "id": "aa8c6709-1092-45bf-acba-ed76bfa3df4b",
   "metadata": {},
   "outputs": [
    {
     "data": {
      "text/plain": [
       "['pickup_location_id_onehot',\n",
       " 'dropoff_location_id_onehot',\n",
       " 'day_of_week_onehot',\n",
       " 'passenger_count_scaled',\n",
       " 'trip_distance_scaled',\n",
       " 'pickup_time_scaled']"
      ]
     },
     "execution_count": 45,
     "metadata": {},
     "output_type": "execute_result"
    }
   ],
   "source": [
    "assembler_input = [cat + '_onehot' for cat in cat_feature] + [num + '_scaled' for num in num_feature]\n",
    "assembler_input"
   ]
  },
  {
   "cell_type": "code",
   "execution_count": 46,
   "id": "f5b1b4ef-5795-4647-b785-dab6333a6d4d",
   "metadata": {},
   "outputs": [
    {
     "data": {
      "text/plain": [
       "[StringIndexer_239b1deb77f9,\n",
       " OneHotEncoder_3cd2c14e0653,\n",
       " StringIndexer_b1527da63a22,\n",
       " OneHotEncoder_80e39f031968,\n",
       " StringIndexer_7453cbcbe345,\n",
       " OneHotEncoder_b2b50fac761c,\n",
       " VectorAssembler_18858a5b4b34,\n",
       " StandardScaler_55b2705a8ebd,\n",
       " VectorAssembler_a2e95555f66b,\n",
       " StandardScaler_4b68b955eee0,\n",
       " VectorAssembler_49950151b313,\n",
       " StandardScaler_d82ef85a9987,\n",
       " VectorAssembler_f9a62bc18286]"
      ]
     },
     "execution_count": 46,
     "metadata": {},
     "output_type": "execute_result"
    }
   ],
   "source": [
    "from pyspark.ml.feature import VectorAssembler\n",
    "assembler = VectorAssembler(inputCols=assembler_input, outputCol='feature_vector')\n",
    "stages += [assembler]\n",
    "stages"
   ]
  },
  {
   "cell_type": "code",
   "execution_count": 47,
   "id": "ee23dc54-e927-4900-aef7-12825771565a",
   "metadata": {},
   "outputs": [
    {
     "name": "stdout",
     "output_type": "stream",
     "text": [
      "root\n",
      " |-- passenger_count: integer (nullable = true)\n",
      " |-- pickup_location_id: integer (nullable = true)\n",
      " |-- dropoff_location_id: integer (nullable = true)\n",
      " |-- trip_distance: double (nullable = true)\n",
      " |-- pickup_time: integer (nullable = true)\n",
      " |-- day_of_week: string (nullable = true)\n",
      " |-- total_amount: double (nullable = true)\n",
      " |-- pickup_location_id-_idx: double (nullable = false)\n",
      " |-- pickup_location_id_onehot: vector (nullable = true)\n",
      " |-- dropoff_location_id-_idx: double (nullable = false)\n",
      " |-- dropoff_location_id_onehot: vector (nullable = true)\n",
      " |-- day_of_week-_idx: double (nullable = false)\n",
      " |-- day_of_week_onehot: vector (nullable = true)\n",
      " |-- passenger_count_vector: vector (nullable = true)\n",
      " |-- passenger_count_scaled: vector (nullable = true)\n",
      " |-- trip_distance_vector: vector (nullable = true)\n",
      " |-- trip_distance_scaled: vector (nullable = true)\n",
      " |-- pickup_time_vector: vector (nullable = true)\n",
      " |-- pickup_time_scaled: vector (nullable = true)\n",
      " |-- feature_vector: vector (nullable = true)\n",
      "\n"
     ]
    }
   ],
   "source": [
    "from pyspark.ml import Pipeline\n",
    "pipeline = Pipeline(stages=stages)\n",
    "fitted_transform = pipeline.fit(train_data)\n",
    "vtrain_df = fitted_transform.transform(train_data)\n",
    "vtrain_df.printSchema()"
   ]
  },
  {
   "cell_type": "code",
   "execution_count": 51,
   "id": "7ee65e6f-3481-454b-8173-73e97edc943d",
   "metadata": {},
   "outputs": [
    {
     "name": "stdout",
     "output_type": "stream",
     "text": [
      "+--------------------+\n",
      "|      feature_vector|\n",
      "+--------------------+\n",
      "|(533,[62,311,527,...|\n",
      "|(533,[62,280,526,...|\n",
      "+--------------------+\n",
      "only showing top 2 rows\n",
      "\n"
     ]
    }
   ],
   "source": [
    "vtrain_df.select('feature_vector').show(2)"
   ]
  },
  {
   "cell_type": "code",
   "execution_count": 52,
   "id": "9f676baf-9d14-4150-909c-5dc747ef1622",
   "metadata": {},
   "outputs": [],
   "source": [
    "# linearRegression 생성 maxIter = 50, labelCol = 'total_amount',featuresCol = 'features'\n",
    "from pyspark.ml.regression import LinearRegression\n",
    "\n",
    "lr = LinearRegression(maxIter=50, solver='normal'\n",
    "                      ,labelCol='total_amount', featuresCol='feature_vector')\n",
    "lr_model = lr.fit(vtrain_df)"
   ]
  },
  {
   "cell_type": "code",
   "execution_count": 54,
   "id": "fb072c28-6c00-4b37-b611-729c51045b0e",
   "metadata": {},
   "outputs": [],
   "source": [
    "# 테스트 데이터 변환\n",
    "vtest_df = fitted_transform.transform(test_data)\n",
    "\n",
    "# 테스트 데이터로 예측\n",
    "pred = lr_model.transform(vtest_df)"
   ]
  },
  {
   "cell_type": "code",
   "execution_count": 55,
   "id": "8b710c02-c46b-4d85-bf74-7f4492e005c8",
   "metadata": {},
   "outputs": [
    {
     "data": {
      "text/plain": [
       "DataFrame[passenger_count: int, pickup_location_id: int, dropoff_location_id: int, trip_distance: double, pickup_time: int, day_of_week: string, total_amount: double, pickup_location_id-_idx: double, pickup_location_id_onehot: vector, dropoff_location_id-_idx: double, dropoff_location_id_onehot: vector, day_of_week-_idx: double, day_of_week_onehot: vector, passenger_count_vector: vector, passenger_count_scaled: vector, trip_distance_vector: vector, trip_distance_scaled: vector, pickup_time_vector: vector, pickup_time_scaled: vector, feature_vector: vector, prediction: double]"
      ]
     },
     "execution_count": 55,
     "metadata": {},
     "output_type": "execute_result"
    }
   ],
   "source": [
    "pred.cache()"
   ]
  },
  {
   "cell_type": "code",
   "execution_count": 56,
   "id": "890b5935-f33f-4225-82ca-8e7447d6d6e3",
   "metadata": {},
   "outputs": [
    {
     "name": "stdout",
     "output_type": "stream",
     "text": [
      "+------------+------------------+\n",
      "|total_amount|        prediction|\n",
      "+------------+------------------+\n",
      "|       10.55|12.695522792729275|\n",
      "|        13.3|14.450558014776915|\n",
      "|        21.3|21.108271361254218|\n",
      "+------------+------------------+\n",
      "only showing top 3 rows\n",
      "\n"
     ]
    }
   ],
   "source": [
    "pred.select('total_amount','prediction').show(3)"
   ]
  },
  {
   "cell_type": "code",
   "execution_count": 58,
   "id": "708eecfe-19b9-4172-9d6f-aaf388b7f075",
   "metadata": {},
   "outputs": [
    {
     "data": {
      "text/plain": [
       "(0.80849012500813, 5.6485201652667625)"
      ]
     },
     "execution_count": 58,
     "metadata": {},
     "output_type": "execute_result"
    }
   ],
   "source": [
    "lr_model.summary.r2, lr_model.summary.rootMeanSquaredError"
   ]
  },
  {
   "cell_type": "code",
   "execution_count": 59,
   "id": "f50fc9e6-8f99-4d22-ab3a-cd41503301f8",
   "metadata": {},
   "outputs": [],
   "source": [
    "spark.stop()"
   ]
  },
  {
   "cell_type": "code",
   "execution_count": null,
   "id": "8ad5183b-81a2-489f-a4a7-3da252472135",
   "metadata": {},
   "outputs": [],
   "source": []
  }
 ],
 "metadata": {
  "kernelspec": {
   "display_name": "Python 3 (ipykernel)",
   "language": "python",
   "name": "python3"
  },
  "language_info": {
   "codemirror_mode": {
    "name": "ipython",
    "version": 3
   },
   "file_extension": ".py",
   "mimetype": "text/x-python",
   "name": "python",
   "nbconvert_exporter": "python",
   "pygments_lexer": "ipython3",
   "version": "3.11.6"
  }
 },
 "nbformat": 4,
 "nbformat_minor": 5
}
